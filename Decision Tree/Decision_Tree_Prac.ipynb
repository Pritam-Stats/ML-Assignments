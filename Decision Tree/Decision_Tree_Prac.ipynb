{
  "cells": [
    {
      "cell_type": "markdown",
      "metadata": {},
      "source": [
        "# Decision Tree - Practical Problems"
      ]
    },
    {
      "cell_type": "markdown",
      "id": "78ec8a7c",
      "metadata": {},
      "source": [
        "#### Library Imports with data sets iris and california house"
      ]
    },
    {
      "cell_type": "code",
      "execution_count": 3,
      "metadata": {},
      "outputs": [],
      "source": [
        "import numpy as np\n",
        "import pandas as pd\n",
        "import matplotlib.pyplot as plt\n",
        "from sklearn.tree import DecisionTreeClassifier, DecisionTreeRegressor, export_graphviz\n",
        "from sklearn.datasets import load_iris, fetch_california_housing\n",
        "from sklearn.metrics import accuracy_score, mean_squared_error\n",
        "from sklearn.model_selection import train_test_split\n",
        "import graphviz\n",
        "\n",
        "np.random.seed(95)"
      ]
    },
    {
      "cell_type": "markdown",
      "metadata": {},
      "source": [
        "### **1. Write a Python program to train a Decision Tree Classifier on the Iris dataset and print the model accuracy**"
      ]
    },
    {
      "cell_type": "code",
      "execution_count": 4,
      "metadata": {},
      "outputs": [
        {
          "name": "stdout",
          "output_type": "stream",
          "text": [
            "Model Accuracy: 0.93\n"
          ]
        }
      ],
      "source": [
        "iris = load_iris()\n",
        "X_train, X_test, y_train, y_test = train_test_split(iris.data, iris.target, test_size=0.3, random_state=95)\n",
        "\n",
        "clf = DecisionTreeClassifier(random_state=95)\n",
        "clf.fit(X_train, y_train)\n",
        "\n",
        "y_pred = clf.predict(X_test)\n",
        "accuracy = accuracy_score(y_test, y_pred)\n",
        "print(f'Model Accuracy: {accuracy:.2f}')"
      ]
    },
    {
      "cell_type": "markdown",
      "metadata": {},
      "source": [
        "### **2. Write a Python program to train a Decision Tree Classifier using Gini Impurity as the criterion and print the feature importances**"
      ]
    },
    {
      "cell_type": "code",
      "execution_count": 5,
      "metadata": {},
      "outputs": [
        {
          "name": "stdout",
          "output_type": "stream",
          "text": [
            "Feature Importances (Gini):\n",
            "sepal length (cm): 0.0248\n",
            "sepal width (cm): 0.0000\n",
            "petal length (cm): 0.5461\n",
            "petal width (cm): 0.4291\n"
          ]
        }
      ],
      "source": [
        "#continuing the same problem\n",
        "clf_gini = DecisionTreeClassifier(criterion='gini', random_state=95)\n",
        "clf_gini.fit(X_train, y_train)\n",
        "\n",
        "print('Feature Importances (Gini):')\n",
        "for name, score in zip(iris.feature_names, clf_gini.feature_importances_):\n",
        "    print(f'{name}: {score:.4f}')"
      ]
    },
    {
      "cell_type": "markdown",
      "metadata": {},
      "source": [
        "### **3. Write a Python program to train a Decision Tree Classifier using Entropy as the splitting criterion and print the model accuracy**"
      ]
    },
    {
      "cell_type": "code",
      "execution_count": 6,
      "metadata": {},
      "outputs": [
        {
          "name": "stdout",
          "output_type": "stream",
          "text": [
            "Model Accuracy (Entropy): 0.91\n"
          ]
        }
      ],
      "source": [
        "clf_entropy = DecisionTreeClassifier(criterion='entropy', random_state=95)\n",
        "clf_entropy.fit(X_train, y_train)\n",
        "y_pred_entropy = clf_entropy.predict(X_test)\n",
        "\n",
        "accuracy_entropy = accuracy_score(y_test, y_pred_entropy)\n",
        "print(f'Model Accuracy (Entropy): {accuracy_entropy:.2f}')"
      ]
    },
    {
      "cell_type": "markdown",
      "metadata": {},
      "source": [
        "### **4. Write a Python program to train a Decision Tree Regressor on a housing dataset and evaluate using Mean Squared Error (MSE)**"
      ]
    },
    {
      "cell_type": "code",
      "execution_count": 7,
      "metadata": {},
      "outputs": [
        {
          "name": "stdout",
          "output_type": "stream",
          "text": [
            "Mean Squared Error (Housing): 0.527\n"
          ]
        }
      ],
      "source": [
        "housing = fetch_california_housing()\n",
        "X_train_h, X_test_h, y_train_h, y_test_h = train_test_split(housing.data, housing.target, test_size=0.25, random_state=95)\n",
        "\n",
        "reg = DecisionTreeRegressor(random_state=95)\n",
        "reg.fit(X_train_h, y_train_h)\n",
        "\n",
        "y_pred_h = reg.predict(X_test_h)\n",
        "mse = mean_squared_error(y_test_h, y_pred_h)\n",
        "print(f'Mean Squared Error (Housing): {mse:.3f}')"
      ]
    },
    {
      "cell_type": "markdown",
      "metadata": {},
      "source": [
        "### **5. Write a Python program to train a Decision Tree Classifier and visualize the tree using graphviz**"
      ]
    },
    {
      "cell_type": "code",
      "execution_count": 8,
      "metadata": {},
      "outputs": [],
      "source": [
        "#graphviz is like pickle. we can store the plot in dot language annd later view it.\n",
        "#we need to install Graphviz software and add the bin to path.\n",
        "# verify by running \"dot --version\" in the system terminal\n",
        "\n",
        "iris = load_iris()\n",
        "X_train, X_test, y_train, y_test = train_test_split(iris.data, iris.target, test_size=0.3, random_state=95)\n",
        "\n",
        "clf = DecisionTreeClassifier(random_state=95)\n",
        "clf.fit(X_train, y_train)\n",
        "\n",
        "\n",
        "dot_data = export_graphviz(clf, out_file=\"iris_tree.dot\", feature_names=iris.feature_names,\n",
        "                                class_names=iris.target_names, filled=True, rounded=True,\n",
        "                                special_characters=False)   #to fix the render in github"
      ]
    },
    {
      "cell_type": "code",
      "execution_count": 9,
      "id": "da766a18",
      "metadata": {},
      "outputs": [
        {
          "data": {
            "image/svg+xml": [
              "<?xml version=\"1.0\" encoding=\"UTF-8\" standalone=\"no\"?>\n",
              "<!DOCTYPE svg PUBLIC \"-//W3C//DTD SVG 1.1//EN\"\n",
              " \"http://www.w3.org/Graphics/SVG/1.1/DTD/svg11.dtd\">\n",
              "<!-- Generated by graphviz version 12.2.1 (20241206.2353)\n",
              " -->\n",
              "<!-- Title: Tree Pages: 1 -->\n",
              "<svg width=\"428pt\" height=\"693pt\"\n",
              " viewBox=\"0.00 0.00 428.12 692.75\" xmlns=\"http://www.w3.org/2000/svg\" xmlns:xlink=\"http://www.w3.org/1999/xlink\">\n",
              "<g id=\"graph0\" class=\"graph\" transform=\"scale(1 1) rotate(0) translate(4 688.75)\">\n",
              "<title>Tree</title>\n",
              "<polygon fill=\"white\" stroke=\"none\" points=\"-4,4 -4,-688.75 424.12,-688.75 424.12,4 -4,4\"/>\n",
              "<!-- 0 -->\n",
              "<g id=\"node1\" class=\"node\">\n",
              "<title>0</title>\n",
              "<path fill=\"#fef8f4\" stroke=\"black\" d=\"M208.75,-684.75C208.75,-684.75 65.25,-684.75 65.25,-684.75 59.25,-684.75 53.25,-678.75 53.25,-672.75 53.25,-672.75 53.25,-610 53.25,-610 53.25,-604 59.25,-598 65.25,-598 65.25,-598 208.75,-598 208.75,-598 214.75,-598 220.75,-604 220.75,-610 220.75,-610 220.75,-672.75 220.75,-672.75 220.75,-678.75 214.75,-684.75 208.75,-684.75\"/>\n",
              "<text text-anchor=\"middle\" x=\"137\" y=\"-667.45\" font-family=\"Helvetica,sans-Serif\" font-size=\"14.00\">petal length (cm) &lt;= 2.45</text>\n",
              "<text text-anchor=\"middle\" x=\"137\" y=\"-651.7\" font-family=\"Helvetica,sans-Serif\" font-size=\"14.00\">gini = 0.665</text>\n",
              "<text text-anchor=\"middle\" x=\"137\" y=\"-635.95\" font-family=\"Helvetica,sans-Serif\" font-size=\"14.00\">samples = 105</text>\n",
              "<text text-anchor=\"middle\" x=\"137\" y=\"-620.2\" font-family=\"Helvetica,sans-Serif\" font-size=\"14.00\">value = [38, 34, 33]</text>\n",
              "<text text-anchor=\"middle\" x=\"137\" y=\"-604.45\" font-family=\"Helvetica,sans-Serif\" font-size=\"14.00\">class = setosa</text>\n",
              "</g>\n",
              "<!-- 1 -->\n",
              "<g id=\"node2\" class=\"node\">\n",
              "<title>1</title>\n",
              "<path fill=\"#e58139\" stroke=\"black\" d=\"M105.25,-554.12C105.25,-554.12 12.75,-554.12 12.75,-554.12 6.75,-554.12 0.75,-548.12 0.75,-542.12 0.75,-542.12 0.75,-495.12 0.75,-495.12 0.75,-489.12 6.75,-483.12 12.75,-483.12 12.75,-483.12 105.25,-483.12 105.25,-483.12 111.25,-483.12 117.25,-489.12 117.25,-495.12 117.25,-495.12 117.25,-542.12 117.25,-542.12 117.25,-548.12 111.25,-554.12 105.25,-554.12\"/>\n",
              "<text text-anchor=\"middle\" x=\"59\" y=\"-536.83\" font-family=\"Helvetica,sans-Serif\" font-size=\"14.00\">gini = 0.0</text>\n",
              "<text text-anchor=\"middle\" x=\"59\" y=\"-521.08\" font-family=\"Helvetica,sans-Serif\" font-size=\"14.00\">samples = 38</text>\n",
              "<text text-anchor=\"middle\" x=\"59\" y=\"-505.32\" font-family=\"Helvetica,sans-Serif\" font-size=\"14.00\">value = [38, 0, 0]</text>\n",
              "<text text-anchor=\"middle\" x=\"59\" y=\"-489.57\" font-family=\"Helvetica,sans-Serif\" font-size=\"14.00\">class = setosa</text>\n",
              "</g>\n",
              "<!-- 0&#45;&gt;1 -->\n",
              "<g id=\"edge1\" class=\"edge\">\n",
              "<title>0&#45;&gt;1</title>\n",
              "<path fill=\"none\" stroke=\"black\" d=\"M109.5,-597.8C102.38,-586.77 94.69,-574.88 87.52,-563.77\"/>\n",
              "<polygon fill=\"black\" stroke=\"black\" points=\"90.56,-562.03 82.19,-555.52 84.68,-565.82 90.56,-562.03\"/>\n",
              "<text text-anchor=\"middle\" x=\"76.11\" y=\"-573.27\" font-family=\"Helvetica,sans-Serif\" font-size=\"14.00\">True</text>\n",
              "</g>\n",
              "<!-- 2 -->\n",
              "<g id=\"node3\" class=\"node\">\n",
              "<title>2</title>\n",
              "<path fill=\"#f9fefb\" stroke=\"black\" d=\"M285.12,-562C285.12,-562 146.88,-562 146.88,-562 140.88,-562 134.88,-556 134.88,-550 134.88,-550 134.88,-487.25 134.88,-487.25 134.88,-481.25 140.88,-475.25 146.88,-475.25 146.88,-475.25 285.12,-475.25 285.12,-475.25 291.12,-475.25 297.12,-481.25 297.12,-487.25 297.12,-487.25 297.12,-550 297.12,-550 297.12,-556 291.12,-562 285.12,-562\"/>\n",
              "<text text-anchor=\"middle\" x=\"216\" y=\"-544.7\" font-family=\"Helvetica,sans-Serif\" font-size=\"14.00\">petal width (cm) &lt;= 1.75</text>\n",
              "<text text-anchor=\"middle\" x=\"216\" y=\"-528.95\" font-family=\"Helvetica,sans-Serif\" font-size=\"14.00\">gini = 0.5</text>\n",
              "<text text-anchor=\"middle\" x=\"216\" y=\"-513.2\" font-family=\"Helvetica,sans-Serif\" font-size=\"14.00\">samples = 67</text>\n",
              "<text text-anchor=\"middle\" x=\"216\" y=\"-497.45\" font-family=\"Helvetica,sans-Serif\" font-size=\"14.00\">value = [0, 34, 33]</text>\n",
              "<text text-anchor=\"middle\" x=\"216\" y=\"-481.7\" font-family=\"Helvetica,sans-Serif\" font-size=\"14.00\">class = versicolor</text>\n",
              "</g>\n",
              "<!-- 0&#45;&gt;2 -->\n",
              "<g id=\"edge2\" class=\"edge\">\n",
              "<title>0&#45;&gt;2</title>\n",
              "<path fill=\"none\" stroke=\"black\" d=\"M164.85,-597.8C170.4,-589.33 176.28,-580.34 182.01,-571.58\"/>\n",
              "<polygon fill=\"black\" stroke=\"black\" points=\"184.76,-573.77 187.3,-563.49 178.9,-569.94 184.76,-573.77\"/>\n",
              "<text text-anchor=\"middle\" x=\"193.25\" y=\"-581.27\" font-family=\"Helvetica,sans-Serif\" font-size=\"14.00\">False</text>\n",
              "</g>\n",
              "<!-- 3 -->\n",
              "<g id=\"node4\" class=\"node\">\n",
              "<title>3</title>\n",
              "<path fill=\"#4ae78c\" stroke=\"black\" d=\"M208.25,-439.25C208.25,-439.25 61.75,-439.25 61.75,-439.25 55.75,-439.25 49.75,-433.25 49.75,-427.25 49.75,-427.25 49.75,-364.5 49.75,-364.5 49.75,-358.5 55.75,-352.5 61.75,-352.5 61.75,-352.5 208.25,-352.5 208.25,-352.5 214.25,-352.5 220.25,-358.5 220.25,-364.5 220.25,-364.5 220.25,-427.25 220.25,-427.25 220.25,-433.25 214.25,-439.25 208.25,-439.25\"/>\n",
              "<text text-anchor=\"middle\" x=\"135\" y=\"-421.95\" font-family=\"Helvetica,sans-Serif\" font-size=\"14.00\">sepal length (cm) &lt;= 4.95</text>\n",
              "<text text-anchor=\"middle\" x=\"135\" y=\"-406.2\" font-family=\"Helvetica,sans-Serif\" font-size=\"14.00\">gini = 0.149</text>\n",
              "<text text-anchor=\"middle\" x=\"135\" y=\"-390.45\" font-family=\"Helvetica,sans-Serif\" font-size=\"14.00\">samples = 37</text>\n",
              "<text text-anchor=\"middle\" x=\"135\" y=\"-374.7\" font-family=\"Helvetica,sans-Serif\" font-size=\"14.00\">value = [0, 34, 3]</text>\n",
              "<text text-anchor=\"middle\" x=\"135\" y=\"-358.95\" font-family=\"Helvetica,sans-Serif\" font-size=\"14.00\">class = versicolor</text>\n",
              "</g>\n",
              "<!-- 2&#45;&gt;3 -->\n",
              "<g id=\"edge3\" class=\"edge\">\n",
              "<title>2&#45;&gt;3</title>\n",
              "<path fill=\"none\" stroke=\"black\" d=\"M187.44,-475.05C181.76,-466.58 175.72,-457.59 169.85,-448.83\"/>\n",
              "<polygon fill=\"black\" stroke=\"black\" points=\"172.89,-447.08 164.42,-440.73 167.08,-450.98 172.89,-447.08\"/>\n",
              "</g>\n",
              "<!-- 10 -->\n",
              "<g id=\"node11\" class=\"node\">\n",
              "<title>10</title>\n",
              "<path fill=\"#8139e5\" stroke=\"black\" d=\"M343.25,-431.38C343.25,-431.38 250.75,-431.38 250.75,-431.38 244.75,-431.38 238.75,-425.38 238.75,-419.38 238.75,-419.38 238.75,-372.38 238.75,-372.38 238.75,-366.38 244.75,-360.38 250.75,-360.38 250.75,-360.38 343.25,-360.38 343.25,-360.38 349.25,-360.38 355.25,-366.38 355.25,-372.38 355.25,-372.38 355.25,-419.38 355.25,-419.38 355.25,-425.38 349.25,-431.38 343.25,-431.38\"/>\n",
              "<text text-anchor=\"middle\" x=\"297\" y=\"-414.07\" font-family=\"Helvetica,sans-Serif\" font-size=\"14.00\">gini = 0.0</text>\n",
              "<text text-anchor=\"middle\" x=\"297\" y=\"-398.32\" font-family=\"Helvetica,sans-Serif\" font-size=\"14.00\">samples = 30</text>\n",
              "<text text-anchor=\"middle\" x=\"297\" y=\"-382.57\" font-family=\"Helvetica,sans-Serif\" font-size=\"14.00\">value = [0, 0, 30]</text>\n",
              "<text text-anchor=\"middle\" x=\"297\" y=\"-366.82\" font-family=\"Helvetica,sans-Serif\" font-size=\"14.00\">class = virginica</text>\n",
              "</g>\n",
              "<!-- 2&#45;&gt;10 -->\n",
              "<g id=\"edge10\" class=\"edge\">\n",
              "<title>2&#45;&gt;10</title>\n",
              "<path fill=\"none\" stroke=\"black\" d=\"M244.56,-475.05C251.96,-464.02 259.94,-452.13 267.39,-441.02\"/>\n",
              "<polygon fill=\"black\" stroke=\"black\" points=\"270.26,-443.01 272.93,-432.76 264.45,-439.12 270.26,-443.01\"/>\n",
              "</g>\n",
              "<!-- 4 -->\n",
              "<g id=\"node5\" class=\"node\">\n",
              "<title>4</title>\n",
              "<path fill=\"#8139e5\" stroke=\"black\" d=\"M100,-308.62C100,-308.62 12,-308.62 12,-308.62 6,-308.62 0,-302.62 0,-296.62 0,-296.62 0,-249.62 0,-249.62 0,-243.62 6,-237.62 12,-237.62 12,-237.62 100,-237.62 100,-237.62 106,-237.62 112,-243.62 112,-249.62 112,-249.62 112,-296.62 112,-296.62 112,-302.62 106,-308.62 100,-308.62\"/>\n",
              "<text text-anchor=\"middle\" x=\"56\" y=\"-291.32\" font-family=\"Helvetica,sans-Serif\" font-size=\"14.00\">gini = 0.0</text>\n",
              "<text text-anchor=\"middle\" x=\"56\" y=\"-275.57\" font-family=\"Helvetica,sans-Serif\" font-size=\"14.00\">samples = 1</text>\n",
              "<text text-anchor=\"middle\" x=\"56\" y=\"-259.82\" font-family=\"Helvetica,sans-Serif\" font-size=\"14.00\">value = [0, 0, 1]</text>\n",
              "<text text-anchor=\"middle\" x=\"56\" y=\"-244.07\" font-family=\"Helvetica,sans-Serif\" font-size=\"14.00\">class = virginica</text>\n",
              "</g>\n",
              "<!-- 3&#45;&gt;4 -->\n",
              "<g id=\"edge4\" class=\"edge\">\n",
              "<title>3&#45;&gt;4</title>\n",
              "<path fill=\"none\" stroke=\"black\" d=\"M107.15,-352.3C99.93,-341.27 92.15,-329.38 84.88,-318.27\"/>\n",
              "<polygon fill=\"black\" stroke=\"black\" points=\"87.89,-316.47 79.48,-310.02 82.03,-320.3 87.89,-316.47\"/>\n",
              "</g>\n",
              "<!-- 5 -->\n",
              "<g id=\"node6\" class=\"node\">\n",
              "<title>5</title>\n",
              "<path fill=\"#45e788\" stroke=\"black\" d=\"M285.75,-316.5C285.75,-316.5 142.25,-316.5 142.25,-316.5 136.25,-316.5 130.25,-310.5 130.25,-304.5 130.25,-304.5 130.25,-241.75 130.25,-241.75 130.25,-235.75 136.25,-229.75 142.25,-229.75 142.25,-229.75 285.75,-229.75 285.75,-229.75 291.75,-229.75 297.75,-235.75 297.75,-241.75 297.75,-241.75 297.75,-304.5 297.75,-304.5 297.75,-310.5 291.75,-316.5 285.75,-316.5\"/>\n",
              "<text text-anchor=\"middle\" x=\"214\" y=\"-299.2\" font-family=\"Helvetica,sans-Serif\" font-size=\"14.00\">petal length (cm) &lt;= 4.95</text>\n",
              "<text text-anchor=\"middle\" x=\"214\" y=\"-283.45\" font-family=\"Helvetica,sans-Serif\" font-size=\"14.00\">gini = 0.105</text>\n",
              "<text text-anchor=\"middle\" x=\"214\" y=\"-267.7\" font-family=\"Helvetica,sans-Serif\" font-size=\"14.00\">samples = 36</text>\n",
              "<text text-anchor=\"middle\" x=\"214\" y=\"-251.95\" font-family=\"Helvetica,sans-Serif\" font-size=\"14.00\">value = [0, 34, 2]</text>\n",
              "<text text-anchor=\"middle\" x=\"214\" y=\"-236.2\" font-family=\"Helvetica,sans-Serif\" font-size=\"14.00\">class = versicolor</text>\n",
              "</g>\n",
              "<!-- 3&#45;&gt;5 -->\n",
              "<g id=\"edge5\" class=\"edge\">\n",
              "<title>3&#45;&gt;5</title>\n",
              "<path fill=\"none\" stroke=\"black\" d=\"M162.85,-352.3C168.4,-343.83 174.28,-334.84 180.01,-326.08\"/>\n",
              "<polygon fill=\"black\" stroke=\"black\" points=\"182.76,-328.27 185.3,-317.99 176.9,-324.44 182.76,-328.27\"/>\n",
              "</g>\n",
              "<!-- 6 -->\n",
              "<g id=\"node7\" class=\"node\">\n",
              "<title>6</title>\n",
              "<path fill=\"#39e581\" stroke=\"black\" d=\"M182.12,-185.88C182.12,-185.88 85.88,-185.88 85.88,-185.88 79.88,-185.88 73.88,-179.88 73.88,-173.88 73.88,-173.88 73.88,-126.88 73.88,-126.88 73.88,-120.88 79.88,-114.88 85.88,-114.88 85.88,-114.88 182.12,-114.88 182.12,-114.88 188.12,-114.88 194.12,-120.88 194.12,-126.88 194.12,-126.88 194.12,-173.88 194.12,-173.88 194.12,-179.88 188.12,-185.88 182.12,-185.88\"/>\n",
              "<text text-anchor=\"middle\" x=\"134\" y=\"-168.57\" font-family=\"Helvetica,sans-Serif\" font-size=\"14.00\">gini = 0.0</text>\n",
              "<text text-anchor=\"middle\" x=\"134\" y=\"-152.82\" font-family=\"Helvetica,sans-Serif\" font-size=\"14.00\">samples = 32</text>\n",
              "<text text-anchor=\"middle\" x=\"134\" y=\"-137.07\" font-family=\"Helvetica,sans-Serif\" font-size=\"14.00\">value = [0, 32, 0]</text>\n",
              "<text text-anchor=\"middle\" x=\"134\" y=\"-121.33\" font-family=\"Helvetica,sans-Serif\" font-size=\"14.00\">class = versicolor</text>\n",
              "</g>\n",
              "<!-- 5&#45;&gt;6 -->\n",
              "<g id=\"edge6\" class=\"edge\">\n",
              "<title>5&#45;&gt;6</title>\n",
              "<path fill=\"none\" stroke=\"black\" d=\"M185.79,-229.55C178.49,-218.52 170.61,-206.63 163.25,-195.52\"/>\n",
              "<polygon fill=\"black\" stroke=\"black\" points=\"166.22,-193.67 157.78,-187.27 160.38,-197.53 166.22,-193.67\"/>\n",
              "</g>\n",
              "<!-- 7 -->\n",
              "<g id=\"node8\" class=\"node\">\n",
              "<title>7</title>\n",
              "<path fill=\"#ffffff\" stroke=\"black\" d=\"M362.12,-193.75C362.12,-193.75 223.88,-193.75 223.88,-193.75 217.88,-193.75 211.88,-187.75 211.88,-181.75 211.88,-181.75 211.88,-119 211.88,-119 211.88,-113 217.88,-107 223.88,-107 223.88,-107 362.12,-107 362.12,-107 368.12,-107 374.12,-113 374.12,-119 374.12,-119 374.12,-181.75 374.12,-181.75 374.12,-187.75 368.12,-193.75 362.12,-193.75\"/>\n",
              "<text text-anchor=\"middle\" x=\"293\" y=\"-176.45\" font-family=\"Helvetica,sans-Serif\" font-size=\"14.00\">petal width (cm) &lt;= 1.55</text>\n",
              "<text text-anchor=\"middle\" x=\"293\" y=\"-160.7\" font-family=\"Helvetica,sans-Serif\" font-size=\"14.00\">gini = 0.5</text>\n",
              "<text text-anchor=\"middle\" x=\"293\" y=\"-144.95\" font-family=\"Helvetica,sans-Serif\" font-size=\"14.00\">samples = 4</text>\n",
              "<text text-anchor=\"middle\" x=\"293\" y=\"-129.2\" font-family=\"Helvetica,sans-Serif\" font-size=\"14.00\">value = [0, 2, 2]</text>\n",
              "<text text-anchor=\"middle\" x=\"293\" y=\"-113.45\" font-family=\"Helvetica,sans-Serif\" font-size=\"14.00\">class = versicolor</text>\n",
              "</g>\n",
              "<!-- 5&#45;&gt;7 -->\n",
              "<g id=\"edge7\" class=\"edge\">\n",
              "<title>5&#45;&gt;7</title>\n",
              "<path fill=\"none\" stroke=\"black\" d=\"M241.85,-229.55C247.4,-221.08 253.28,-212.09 259.01,-203.33\"/>\n",
              "<polygon fill=\"black\" stroke=\"black\" points=\"261.76,-205.52 264.3,-195.24 255.9,-201.69 261.76,-205.52\"/>\n",
              "</g>\n",
              "<!-- 8 -->\n",
              "<g id=\"node9\" class=\"node\">\n",
              "<title>8</title>\n",
              "<path fill=\"#8139e5\" stroke=\"black\" d=\"M270,-71C270,-71 182,-71 182,-71 176,-71 170,-65 170,-59 170,-59 170,-12 170,-12 170,-6 176,0 182,0 182,0 270,0 270,0 276,0 282,-6 282,-12 282,-12 282,-59 282,-59 282,-65 276,-71 270,-71\"/>\n",
              "<text text-anchor=\"middle\" x=\"226\" y=\"-53.7\" font-family=\"Helvetica,sans-Serif\" font-size=\"14.00\">gini = 0.0</text>\n",
              "<text text-anchor=\"middle\" x=\"226\" y=\"-37.95\" font-family=\"Helvetica,sans-Serif\" font-size=\"14.00\">samples = 2</text>\n",
              "<text text-anchor=\"middle\" x=\"226\" y=\"-22.2\" font-family=\"Helvetica,sans-Serif\" font-size=\"14.00\">value = [0, 0, 2]</text>\n",
              "<text text-anchor=\"middle\" x=\"226\" y=\"-6.45\" font-family=\"Helvetica,sans-Serif\" font-size=\"14.00\">class = virginica</text>\n",
              "</g>\n",
              "<!-- 7&#45;&gt;8 -->\n",
              "<g id=\"edge8\" class=\"edge\">\n",
              "<title>7&#45;&gt;8</title>\n",
              "<path fill=\"none\" stroke=\"black\" d=\"M267.67,-106.7C262.66,-98.27 257.4,-89.39 252.36,-80.9\"/>\n",
              "<polygon fill=\"black\" stroke=\"black\" points=\"255.46,-79.27 247.34,-72.46 249.44,-82.84 255.46,-79.27\"/>\n",
              "</g>\n",
              "<!-- 9 -->\n",
              "<g id=\"node10\" class=\"node\">\n",
              "<title>9</title>\n",
              "<path fill=\"#39e581\" stroke=\"black\" d=\"M408.12,-71C408.12,-71 311.88,-71 311.88,-71 305.88,-71 299.88,-65 299.88,-59 299.88,-59 299.88,-12 299.88,-12 299.88,-6 305.88,0 311.88,0 311.88,0 408.12,0 408.12,0 414.12,0 420.12,-6 420.12,-12 420.12,-12 420.12,-59 420.12,-59 420.12,-65 414.12,-71 408.12,-71\"/>\n",
              "<text text-anchor=\"middle\" x=\"360\" y=\"-53.7\" font-family=\"Helvetica,sans-Serif\" font-size=\"14.00\">gini = 0.0</text>\n",
              "<text text-anchor=\"middle\" x=\"360\" y=\"-37.95\" font-family=\"Helvetica,sans-Serif\" font-size=\"14.00\">samples = 2</text>\n",
              "<text text-anchor=\"middle\" x=\"360\" y=\"-22.2\" font-family=\"Helvetica,sans-Serif\" font-size=\"14.00\">value = [0, 2, 0]</text>\n",
              "<text text-anchor=\"middle\" x=\"360\" y=\"-6.45\" font-family=\"Helvetica,sans-Serif\" font-size=\"14.00\">class = versicolor</text>\n",
              "</g>\n",
              "<!-- 7&#45;&gt;9 -->\n",
              "<g id=\"edge9\" class=\"edge\">\n",
              "<title>7&#45;&gt;9</title>\n",
              "<path fill=\"none\" stroke=\"black\" d=\"M318.33,-106.7C323.34,-98.27 328.6,-89.39 333.64,-80.9\"/>\n",
              "<polygon fill=\"black\" stroke=\"black\" points=\"336.56,-82.84 338.66,-72.46 330.54,-79.27 336.56,-82.84\"/>\n",
              "</g>\n",
              "</g>\n",
              "</svg>\n"
            ],
            "text/plain": [
              "<graphviz.sources.Source at 0x22aff853e90>"
            ]
          },
          "execution_count": 9,
          "metadata": {},
          "output_type": "execute_result"
        }
      ],
      "source": [
        "import graphviz\n",
        "with open(\"iris_tree.dot\") as f:\n",
        "    dot_graph = f.read()\n",
        "graphviz.Source(dot_graph)"
      ]
    },
    {
      "cell_type": "markdown",
      "metadata": {},
      "source": [
        "### **6. Write a Python program to train a Decision Tree Classifier with a maximum depth of 3 and compare its accuracy with a fully grown tree**"
      ]
    },
    {
      "cell_type": "code",
      "execution_count": 10,
      "metadata": {},
      "outputs": [
        {
          "name": "stdout",
          "output_type": "stream",
          "text": [
            "Accuracy (max_depth=3): 0.91\n",
            "Accuracy (fully grown tree): 0.93\n"
          ]
        }
      ],
      "source": [
        "clf_depth3 = DecisionTreeClassifier(max_depth=3, random_state=95)\n",
        "clf_depth3.fit(X_train, y_train)    #iris data\n",
        "acc_depth3 = accuracy_score(y_test, clf_depth3.predict(X_test))\n",
        "print(f'Accuracy (max_depth=3): {acc_depth3:.2f}')\n",
        "\n",
        "acc_full = accuracy_score(y_test, clf.predict(X_test))\n",
        "print(f'Accuracy (fully grown tree): {acc_full:.2f}')"
      ]
    },
    {
      "cell_type": "markdown",
      "metadata": {},
      "source": [
        "### **7. Write a Python program to train a Decision Tree Classifier using min_samples_split=5 and compare its accuracy with a default tree**"
      ]
    },
    {
      "cell_type": "code",
      "execution_count": 11,
      "metadata": {},
      "outputs": [
        {
          "name": "stdout",
          "output_type": "stream",
          "text": [
            "Accuracy (min_samples_split=5): 0.91\n",
            "Accuracy (default tree): 0.93\n"
          ]
        }
      ],
      "source": [
        "clf_min_split = DecisionTreeClassifier(min_samples_split=5, random_state=95)\n",
        "clf_min_split.fit(X_train, y_train)\n",
        "acc_min_split = accuracy_score(y_test, clf_min_split.predict(X_test))\n",
        "print(f'Accuracy (min_samples_split=5): {acc_min_split:.2f}')\n",
        "print(f'Accuracy (default tree): {accuracy:.2f}')"
      ]
    },
    {
      "cell_type": "markdown",
      "metadata": {},
      "source": [
        "### **8. Write a Python program to apply feature scaling before training a Decision Tree Classifier and compare its accuracy with unscaled data**"
      ]
    },
    {
      "cell_type": "code",
      "execution_count": 12,
      "metadata": {},
      "outputs": [
        {
          "name": "stdout",
          "output_type": "stream",
          "text": [
            "Accuracy (scaled): 0.93\n",
            "Accuracy (unscaled): 0.93\n"
          ]
        }
      ],
      "source": [
        "from sklearn.preprocessing import StandardScaler\n",
        "\n",
        "scaler = StandardScaler()\n",
        "# fit transform for train and only transform for test data\n",
        "\n",
        "X_train_scaled = scaler.fit_transform(X_train)\n",
        "X_test_scaled = scaler.transform(X_test)\n",
        "\n",
        "# on same iris data\n",
        "clf_scaled = DecisionTreeClassifier(random_state=95)\n",
        "clf_scaled.fit(X_train_scaled, y_train)\n",
        "acc_scaled = accuracy_score(y_test, clf_scaled.predict(X_test_scaled))\n",
        "\n",
        "print(f'Accuracy (scaled): {acc_scaled:.2f}')\n",
        "print(f'Accuracy (unscaled): {accuracy:.2f}')"
      ]
    },
    {
      "cell_type": "markdown",
      "metadata": {},
      "source": [
        "### **9. Write a Python program to train a Decision Tree Classifier using One-vs-Rest (OvR) strategy for multiclass classification**"
      ]
    },
    {
      "cell_type": "code",
      "execution_count": 13,
      "metadata": {},
      "outputs": [
        {
          "name": "stdout",
          "output_type": "stream",
          "text": [
            "Accuracy (One-vs-Rest): 0.93\n"
          ]
        }
      ],
      "source": [
        "from sklearn.multiclass import OneVsRestClassifier\n",
        "\n",
        "dtc = DecisionTreeClassifier(random_state=95)   #CLF\n",
        "\n",
        "ovr_clf = OneVsRestClassifier(dtc)\n",
        "ovr_clf.fit(X_train, y_train)\n",
        "acc_ovr = accuracy_score(y_test, ovr_clf.predict(X_test))\n",
        "print(f'Accuracy (One-vs-Rest): {acc_ovr:.2f}')"
      ]
    },
    {
      "cell_type": "markdown",
      "metadata": {},
      "source": [
        "### **10. Write a Python program to train a Decision Tree Classifier and display the feature importance scores**"
      ]
    },
    {
      "cell_type": "code",
      "execution_count": 14,
      "metadata": {},
      "outputs": [
        {
          "name": "stdout",
          "output_type": "stream",
          "text": [
            "Feature Importances:\n",
            "sepal length (cm): 0.0248\n",
            "sepal width (cm): 0.0000\n",
            "petal length (cm): 0.5461\n",
            "petal width (cm): 0.4291\n"
          ]
        }
      ],
      "source": [
        "clf_fi = DecisionTreeClassifier(random_state=95)\n",
        "clf_fi.fit(X_train, y_train)\n",
        "print('Feature Importances:')\n",
        "imp = clf_fi.feature_importances_\n",
        "\n",
        "for name, score in zip(iris.feature_names, clf_fi.feature_importances_):\n",
        "    print(f'{name}: {score:.4f}')"
      ]
    },
    {
      "cell_type": "code",
      "execution_count": 15,
      "id": "60e72246",
      "metadata": {},
      "outputs": [
        {
          "data": {
            "image/png": "[encoded data removed]",
            "text/plain": [
              "<Figure size 1000x700 with 1 Axes>"
            ]
          },
          "metadata": {},
          "output_type": "display_data"
        }
      ],
      "source": [
        "# visualize\n",
        "idx_imp = np.argsort(imp)[::-1] #returns indices for the sorted\n",
        "names = [iris.feature_names[i] for i in idx_imp]\n",
        "\n",
        "plt.figure(figsize=(10,7))\n",
        "plt.title(\"Feature Importance bar plot\")\n",
        "plt.bar(range(iris.data.shape[1]), imp[idx_imp])\n",
        "\n",
        "plt.xticks(range(iris.data.shape[1]), names, rotation = 90)\n",
        "plt.xlabel(\"Features\")\n",
        "plt.ylabel(\"Importance\")\n",
        "plt.show()"
      ]
    },
    {
      "cell_type": "markdown",
      "metadata": {},
      "source": [
        "### **11. Write a Python program to train a Decision Tree Regressor with max_depth=5 and compare its performance with an unrestricted tree**"
      ]
    },
    {
      "cell_type": "code",
      "execution_count": 16,
      "metadata": {},
      "outputs": [
        {
          "name": "stdout",
          "output_type": "stream",
          "text": [
            "MSE (max_depth=5): 0.513\n",
            "MSE (unrestricted): 0.527\n"
          ]
        }
      ],
      "source": [
        "reg_max5 = DecisionTreeRegressor(max_depth=5, random_state=95)\n",
        "reg_max5.fit(X_train_h, y_train_h)\n",
        "\n",
        "mse_max5 = mean_squared_error(y_test_h, reg_max5.predict(X_test_h))\n",
        "mse_full = mean_squared_error(y_test_h, reg.predict(X_test_h))  #done above\n",
        "\n",
        "print(f'MSE (max_depth=5): {mse_max5:.3f}')\n",
        "print(f'MSE (unrestricted): {mse_full:.3f}')"
      ]
    },
    {
      "cell_type": "markdown",
      "metadata": {},
      "source": [
        "### **12. Write a Python program to train a Decision Tree Classifier, apply Cost Complexity Pruning (CCP), and visualize its effect on accuracy**"
      ]
    },
    {
      "cell_type": "code",
      "execution_count": 17,
      "metadata": {},
      "outputs": [
        {
          "data": {
            "image/png": "[encoded data removed]",
            "text/plain": [
              "<Figure size 800x400 with 1 Axes>"
            ]
          },
          "metadata": {},
          "output_type": "display_data"
        }
      ],
      "source": [
        "# about ccp :https://scikit-learn.org/stable/auto_examples/tree/plot_cost_complexity_pruning.html *(need to go through theis again)\n",
        "\n",
        "path = clf.cost_complexity_pruning_path(X_train, y_train)   #iris data\n",
        "ccp_alphas = path.ccp_alphas\n",
        "\n",
        "acc_scores = []\n",
        "for alpha in ccp_alphas:\n",
        "    pruned = DecisionTreeClassifier(random_state=95, ccp_alpha=alpha)\n",
        "    pruned.fit(X_train, y_train)\n",
        "    acc = accuracy_score(y_test, pruned.predict(X_test))\n",
        "    acc_scores.append(acc)\n",
        "\n",
        "plt.figure(figsize=(8, 4))\n",
        "plt.plot(ccp_alphas, acc_scores, marker='o')\n",
        "plt.xlabel('CCP Alpha')\n",
        "plt.ylabel('Accuracy')\n",
        "plt.title('Effect of Cost Complexity Pruning on Accuracy')\n",
        "plt.grid(True)\n",
        "plt.show()"
      ]
    },
    {
      "cell_type": "markdown",
      "metadata": {},
      "source": [
        "### **13. Write a Python program to train a Decision Tree Classifier and evaluate its performance using Precision, Recall, and F1-Score**"
      ]
    },
    {
      "cell_type": "code",
      "execution_count": 18,
      "metadata": {},
      "outputs": [
        {
          "name": "stdout",
          "output_type": "stream",
          "text": [
            "Precision: 0.94\n",
            "Recall: 0.94\n",
            "F1-Score: 0.94\n"
          ]
        }
      ],
      "source": [
        "from sklearn.metrics import precision_score, recall_score, f1_score\n",
        "\n",
        "y_pred = clf.predict(X_test)\n",
        "print(f'Precision: {precision_score(y_test, y_pred, average=\"macro\"):.2f}')\n",
        "print(f'Recall: {recall_score(y_test, y_pred, average=\"macro\"):.2f}')\n",
        "print(f'F1-Score: {f1_score(y_test, y_pred, average=\"macro\"):.2f}')"
      ]
    },
    {
      "cell_type": "markdown",
      "metadata": {},
      "source": [
        "### **14. Write a Python program to train a Decision Tree Classifier and visualize the confusion matrix using seaborn**"
      ]
    },
    {
      "cell_type": "code",
      "execution_count": 19,
      "metadata": {},
      "outputs": [
        {
          "data": {
            "image/png": "[encoded data removed]",
            "text/plain": [
              "<Figure size 640x480 with 2 Axes>"
            ]
          },
          "metadata": {},
          "output_type": "display_data"
        }
      ],
      "source": [
        "from sklearn.metrics import confusion_matrix\n",
        "import seaborn as sns\n",
        "\n",
        "cm = confusion_matrix(y_test, y_pred)\n",
        "sns.heatmap(cm, annot=True, fmt='d', cmap='Blues', xticklabels=iris.target_names, yticklabels=iris.target_names)\n",
        "plt.xlabel('Predicted')\n",
        "plt.ylabel('Actual')\n",
        "plt.title('Confusion Matrix')\n",
        "plt.show()"
      ]
    },
    {
      "cell_type": "markdown",
      "metadata": {},
      "source": [
        "### **15. Write a Python program to train a Decision Tree Classifier and use GridSearchCV to find the optimal values for max_depth and min_samples_split**"
      ]
    },
    {
      "cell_type": "code",
      "execution_count": 20,
      "metadata": {},
      "outputs": [
        {
          "name": "stdout",
          "output_type": "stream",
          "text": [
            "Best Parameters: {'max_depth': 3, 'min_samples_split': 2}\n",
            "Best Accuracy: 0.9619047619047618\n"
          ]
        }
      ],
      "source": [
        "from sklearn.model_selection import GridSearchCV\n",
        "\n",
        "param_grid = {\n",
        "    'max_depth': [3, 5, 7, None],\n",
        "    'min_samples_split': [2, 5, 10]\n",
        "}\n",
        "\n",
        "grid = GridSearchCV(DecisionTreeClassifier(random_state=95), param_grid, cv=5)\n",
        "grid.fit(X_train, y_train)\n",
        "\n",
        "print('Best Parameters:', grid.best_params_)\n",
        "print('Best Accuracy:', grid.best_score_)"
      ]
    }
  ],
  "metadata": {
    "kernelspec": {
      "display_name": "base",
      "language": "python",
      "name": "python3"
    },
    "language_info": {
      "codemirror_mode": {
        "name": "ipython",
        "version": 3
      },
      "file_extension": ".py",
      "mimetype": "text/x-python",
      "name": "python",
      "nbconvert_exporter": "python",
      "pygments_lexer": "ipython3",
      "version": "3.12.7"
    }
  },
  "nbformat": 4,
  "nbformat_minor": 5
}
