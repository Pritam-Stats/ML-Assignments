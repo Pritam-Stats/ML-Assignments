{
 "cells": [
  {
   "cell_type": "markdown",
   "metadata": {},
   "source": [
    "- Dataset Link \"https://drive.google.com/file/d/1iKy23bMtEQShF_weneRNnYrFmzvpPOI3/view\"\n",
    "\n",
    "> The dataset provided focuses on used bikes, capturing various attributes to analyze the second-hand bike market. This dataset helps understand factors influencing resale prices, usage patterns, and market trends for used bikes. "
   ]
  },
  {
   "cell_type": "markdown",
   "metadata": {},
   "source": [
    "- Description : The dataset comprises 1061 records of used bike listings. These records include details about the bike's brand and model, selling price, kilometers driven, ownership history, and other attributes. It is particularly useful for resale value prediction, market analysis, and understanding buyer preferences.  The dataset consists of 7 features, combining both numeric and categorical data, offering a comprehensive view of the second-hand bike market"
   ]
  },
  {
   "cell_type": "code",
   "execution_count": 1,
   "metadata": {},
   "outputs": [],
   "source": [
    "# loading the dataset\n",
    "import pandas as pd\n",
    "\n",
    "data = pd.read_csv(\"BIKE DETAILS.csv\")  #in the same directory"
   ]
  },
  {
   "cell_type": "code",
   "execution_count": null,
   "metadata": {},
   "outputs": [],
   "source": [
    "data.head(10)"
   ]
  },
  {
   "cell_type": "code",
   "execution_count": null,
   "metadata": {},
   "outputs": [],
   "source": [
    "# so there are NaN value present.\n",
    "\n",
    "#some information about dataset\n",
    "data.info()\n"
   ]
  },
  {
   "cell_type": "markdown",
   "metadata": {},
   "source": [
    "- name: Brand and model name of the bike (Categorical)\n",
    "- selling_price: Listed selling price in INR (Numeric) \n",
    "- year: Manufacturing year of the bike (Numeric)\n",
    "- seller_type: Seller category, either \"Individual\" or \"Dealer\" (Categorical)\n",
    "- owner: Ownership history, e.g., \"1st owner\", \"2nd owner\" (Categorical)\n",
    "- km_driven: Total kilometers driven (Numeric)\n",
    "- ex_showroom_price: Original showroom price in INR (Numeric)"
   ]
  },
  {
   "cell_type": "code",
   "execution_count": null,
   "metadata": {},
   "outputs": [],
   "source": [
    "# statistical summary\n",
    "data.describe()"
   ]
  },
  {
   "cell_type": "code",
   "execution_count": null,
   "metadata": {},
   "outputs": [],
   "source": [
    "data.shape"
   ]
  },
  {
   "cell_type": "markdown",
   "metadata": {},
   "source": [
    "### **Q1. What is the range of selling prices in the dataset?**"
   ]
  },
  {
   "cell_type": "code",
   "execution_count": null,
   "metadata": {},
   "outputs": [],
   "source": [
    "range_sell_price = max(data[\"selling_price\"]) - min(data[\"selling_price\"])\n",
    "\n",
    "print(f\"The range of selling prices : {range_sell_price}.\\n\")"
   ]
  },
  {
   "cell_type": "markdown",
   "metadata": {},
   "source": [
    "### **Q2. What is the median selling price for bikes in the dataset?**"
   ]
  },
  {
   "cell_type": "code",
   "execution_count": null,
   "metadata": {},
   "outputs": [],
   "source": [
    "import numpy as np\n",
    "median_sell_price = np.median(data['selling_price'])    #THERE ARE OTHER WAYS LIKE FROM THE DESCRIBE TABLE ITSELF OR BY USING THE QUANTILE METHOD WITH 0.5\n",
    "\n",
    "print(f\"The Median of selling prices : {median_sell_price}.\\n\")"
   ]
  },
  {
   "cell_type": "markdown",
   "metadata": {},
   "source": [
    "### **Q3. What is the most common seller type?**\n",
    "- Mode"
   ]
  },
  {
   "cell_type": "code",
   "execution_count": null,
   "metadata": {},
   "outputs": [],
   "source": [
    "# we can use the value_counts method\n",
    "seller_type_freq = data['seller_type'].value_counts()\n",
    "seller_type_freq\n"
   ]
  },
  {
   "cell_type": "code",
   "execution_count": null,
   "metadata": {},
   "outputs": [],
   "source": [
    "from statistics import mode\n",
    "common = mode(data['seller_type'])\n",
    "common_freq = seller_type_freq.get(common)\n",
    "\n",
    "print(f\"The most common Seller Type is {common} with frequency {common_freq}.\\n\")"
   ]
  },
  {
   "cell_type": "markdown",
   "metadata": {},
   "source": [
    "### **Q4. How many Bikes have driven more than 50,000 kms?** "
   ]
  },
  {
   "cell_type": "code",
   "execution_count": 10,
   "metadata": {},
   "outputs": [],
   "source": [
    "more_than50k = (data['km_driven'] > 50000).sum()"
   ]
  },
  {
   "cell_type": "code",
   "execution_count": null,
   "metadata": {},
   "outputs": [],
   "source": [
    "print(f\"The total number of bikes with more than 50000kms : {more_than50k}\\n\")"
   ]
  },
  {
   "cell_type": "markdown",
   "metadata": {},
   "source": [
    "### **5. What is the average km_driven value for each ownership type?**"
   ]
  },
  {
   "cell_type": "code",
   "execution_count": null,
   "metadata": {},
   "outputs": [],
   "source": [
    "# see the categories of the owners\n",
    "data['owner'].unique()"
   ]
  },
  {
   "cell_type": "code",
   "execution_count": null,
   "metadata": {},
   "outputs": [],
   "source": [
    "#freq table of the owner\n",
    "data['owner'].value_counts()"
   ]
  },
  {
   "cell_type": "code",
   "execution_count": null,
   "metadata": {},
   "outputs": [],
   "source": [
    "#using the groupby method of a dataframe to calculate the mean of each row\n",
    "avg_driven_by_each_owner = data.groupby('owner')['km_driven'].mean().to_dict()\n",
    "# based on the owner categories we are finding the mean of km_driven\n",
    "avg_driven_by_each_owner\n"
   ]
  },
  {
   "cell_type": "code",
   "execution_count": 15,
   "metadata": {},
   "outputs": [],
   "source": [
    "owners = list(avg_driven_by_each_owner.keys())\n",
    "avg_km_driven = list(avg_driven_by_each_owner.values())"
   ]
  },
  {
   "cell_type": "code",
   "execution_count": null,
   "metadata": {},
   "outputs": [],
   "source": [
    "result_df = pd.DataFrame(list(zip(owners,avg_km_driven)), columns=['owners','avg_km_driven'])\n",
    "# result_df"
   ]
  },
  {
   "cell_type": "code",
   "execution_count": null,
   "metadata": {},
   "outputs": [],
   "source": [
    "print(\"The Average km_driven value for each ownerhip type is : \\n\")\n",
    "result_df"
   ]
  },
  {
   "cell_type": "markdown",
   "metadata": {},
   "source": []
  },
  {
   "cell_type": "code",
   "execution_count": null,
   "metadata": {},
   "outputs": [],
   "source": []
  },
  {
   "cell_type": "markdown",
   "metadata": {},
   "source": [
    "### **6. What proportion of bikes are from the year 2015 or older?**"
   ]
  },
  {
   "cell_type": "code",
   "execution_count": null,
   "metadata": {},
   "outputs": [],
   "source": [
    "data.head(10)"
   ]
  },
  {
   "cell_type": "code",
   "execution_count": null,
   "metadata": {},
   "outputs": [],
   "source": [
    "data.year.describe()"
   ]
  },
  {
   "cell_type": "code",
   "execution_count": null,
   "metadata": {},
   "outputs": [],
   "source": [
    "total = data.shape[0]\n",
    "older2015 = (data['year'] < 2015).sum()\n",
    "\n",
    "proportion = (total / older2015)\n",
    "print(f\"The proportion of bikes from the year 2015 or older : {proportion:.3f}\")"
   ]
  },
  {
   "cell_type": "markdown",
   "metadata": {},
   "source": [
    "### **7. What is the trend of missing values across the dataset?**"
   ]
  },
  {
   "cell_type": "code",
   "execution_count": 21,
   "metadata": {},
   "outputs": [],
   "source": [
    "missing_data = data.isnull().sum()"
   ]
  },
  {
   "cell_type": "code",
   "execution_count": null,
   "metadata": {},
   "outputs": [],
   "source": [
    "missing_data[missing_data > 0]  #shows only the columns which has missing values"
   ]
  },
  {
   "cell_type": "markdown",
   "metadata": {},
   "source": [
    "> SO ONLY \"ex_showroom_price\" variable has 435 null values"
   ]
  },
  {
   "cell_type": "code",
   "execution_count": null,
   "metadata": {},
   "outputs": [],
   "source": [
    "#BAR PLOT OF MISSING VALUES\n",
    "\n",
    "import matplotlib.pyplot as plt\n",
    "plt.figure(figsize=(10, 6))\n",
    "missing_data.plot(kind='bar', color='orange')\n",
    "plt.title('Missing Values Per Column')\n",
    "plt.xlabel('Columns')\n",
    "plt.ylabel('Number of Missing Values')\n",
    "plt.xticks(rotation=45)\n",
    "plt.show()"
   ]
  },
  {
   "cell_type": "code",
   "execution_count": 24,
   "metadata": {},
   "outputs": [],
   "source": [
    "import seaborn as sns\n",
    "import matplotlib.pyplot as plt"
   ]
  },
  {
   "cell_type": "code",
   "execution_count": null,
   "metadata": {},
   "outputs": [],
   "source": [
    "\n",
    "\n",
    "# Plot heatmap of missing values\n",
    "plt.figure(figsize=(10, 6))\n",
    "sns.heatmap(data.isnull(), cbar=False, cmap='coolwarm', yticklabels=False)\n",
    "plt.title('Missing Data Heatmap')\n",
    "plt.show()\n"
   ]
  },
  {
   "cell_type": "code",
   "execution_count": null,
   "metadata": {},
   "outputs": [],
   "source": [
    "# Pie chart showing the proportion of missing vs non-missing data\n",
    "total_missing = missing_data.sum()  # Total missing values\n",
    "total_datapoint = data.size  # Total values in the DataFrame\n",
    "non_missing = total_datapoint - total_missing\n",
    "\n",
    "plt.figure(figsize=(6, 6))\n",
    "plt.pie([total_missing, non_missing], labels=['Missing', 'Non-missing'], autopct='%1.1f%%', colors=['red', 'lightblue'])\n",
    "plt.title('Missing vs Non-Missing Data Points')\n",
    "plt.show()\n"
   ]
  },
  {
   "cell_type": "markdown",
   "metadata": {},
   "source": [
    "### **8. What is the highest ex_showroom_price recorded and for which bike?**"
   ]
  },
  {
   "cell_type": "code",
   "execution_count": null,
   "metadata": {},
   "outputs": [],
   "source": [
    "highest_price_bike = data[data['ex_showroom_price'] == data['ex_showroom_price'].max()]\n",
    "highest_price_bike"
   ]
  },
  {
   "cell_type": "code",
   "execution_count": null,
   "metadata": {},
   "outputs": [],
   "source": [
    "highest_price_bike_name = highest_price_bike['name'].iloc[0]\n",
    "highest_price_bike_name"
   ]
  },
  {
   "cell_type": "code",
   "execution_count": null,
   "metadata": {},
   "outputs": [],
   "source": [
    "print(f\"The Name of the Bike with the highest ex_showroom_price is: {str(highest_price_bike_name)} \\nAt index {highest_price_bike.index[0]}.\")"
   ]
  },
  {
   "cell_type": "markdown",
   "metadata": {},
   "source": [
    "### **9. What is the total number of bikes listed by each seller type?**"
   ]
  },
  {
   "cell_type": "code",
   "execution_count": null,
   "metadata": {},
   "outputs": [],
   "source": [
    "# we can simply use the value counts method which will give us the frequency table\n",
    "seller_type_freq_dict = data['seller_type'].value_counts().to_dict()\n",
    "seller = list(seller_type_freq_dict.keys())\n",
    "values = list(seller_type_freq_dict.values())\n",
    "\n",
    "seller_type_freq_df = pd.DataFrame(list(zip(seller,values)), columns= ['Seller Type', 'No. of Bikes listed'])\n",
    "seller_type_freq_df"
   ]
  },
  {
   "cell_type": "markdown",
   "metadata": {},
   "source": [
    "### **10. What is the relationship between selling_price and km_driven for first owner bikes?** "
   ]
  },
  {
   "cell_type": "code",
   "execution_count": null,
   "metadata": {},
   "outputs": [],
   "source": [
    "# making a separate df of first owners only\n",
    "df_1st_owner = data[data['owner'] == '1st owner'].reset_index()\n",
    "df = df_1st_owner[['selling_price', 'km_driven']]\n",
    "df"
   ]
  },
  {
   "cell_type": "code",
   "execution_count": null,
   "metadata": {},
   "outputs": [],
   "source": [
    "plt.figure(figsize=(12, 6))\n",
    "# Selling price box plot\n",
    "plt.subplot(1, 2, 1)\n",
    "sns.boxplot(data = df, x = 'selling_price')\n",
    "plt.title('Box Plot for Selling Price')\n",
    "\n",
    "plt.subplot(1,2,2)\n",
    "sns.boxplot(data = df, x = 'km_driven')\n",
    "plt.title('Box Plot for KM Driven')\n",
    "\n",
    "plt.tight_layout()\n",
    "plt.show()"
   ]
  },
  {
   "cell_type": "markdown",
   "metadata": {},
   "source": [
    "- > This shows the data has many extreme values (Outliers)"
   ]
  },
  {
   "cell_type": "code",
   "execution_count": null,
   "metadata": {},
   "outputs": [],
   "source": [
    "# to know the relationship we can start with plotting a scatter and the correlation\n",
    "\n",
    "# first let's scale down the values using min max scaler as these are too large values\n",
    "from sklearn.preprocessing import MinMaxScaler\n",
    "min_max = MinMaxScaler()\n",
    "df_transformed = pd.DataFrame(min_max.fit_transform(df[['selling_price', 'km_driven']]), columns= min_max.get_feature_names_out())\n",
    "df_transformed\n"
   ]
  },
  {
   "cell_type": "markdown",
   "metadata": {},
   "source": [
    "#### Correlation Coefficient"
   ]
  },
  {
   "cell_type": "code",
   "execution_count": null,
   "metadata": {},
   "outputs": [],
   "source": [
    "print(f\"The correlation coefficient between selling price and km driven for the 1st owner bikes is: \\n{df_transformed.corr().iloc[1,0]:.3f}\")"
   ]
  },
  {
   "cell_type": "code",
   "execution_count": null,
   "metadata": {},
   "outputs": [],
   "source": [
    "plt.figure(figsize=(12,8))\n",
    "plt.title(\"Heatmap of the correlation of selling_price and km_driven for 1st owner data\")\n",
    "sns.heatmap(df_transformed.corr(), annot= True)\n",
    "plt.show()"
   ]
  },
  {
   "cell_type": "code",
   "execution_count": null,
   "metadata": {},
   "outputs": [],
   "source": [
    "plt.figure(figsize=(12,8))\n",
    "sns.scatterplot(data = df_transformed, x = 'selling_price', y = 'km_driven')\n",
    "plt.title(\"Scatter Plot\")\n",
    "plt.show()"
   ]
  },
  {
   "cell_type": "markdown",
   "metadata": {},
   "source": [
    "> The scatter plot is not very interpretable because of the presence of extreme outliers"
   ]
  },
  {
   "cell_type": "code",
   "execution_count": null,
   "metadata": {},
   "outputs": [],
   "source": [
    "sns.pairplot(data = df_transformed)\n",
    "plt.show()"
   ]
  },
  {
   "cell_type": "code",
   "execution_count": null,
   "metadata": {},
   "outputs": [],
   "source": [
    "df_transformed_sorted = df_transformed.sort_values(by = 'km_driven')\n",
    "\n",
    "plt.figure(figsize=(14,9))\n",
    "plt.plot(df_transformed_sorted['km_driven'], df_transformed_sorted['selling_price'], marker = 'o')\n",
    "plt.title(\"Line plot\")\n",
    "plt.show()"
   ]
  },
  {
   "cell_type": "markdown",
   "metadata": {},
   "source": [
    "### **10. Outliers and Removing Outliers using IQR**"
   ]
  },
  {
   "cell_type": "code",
   "execution_count": null,
   "metadata": {},
   "outputs": [],
   "source": [
    "import numpy as np\n",
    "\n",
    "# Calculate the IQR (Interquartile Range) for both selling_price and km_driven\n",
    "Q1_sell = df_transformed['selling_price'].quantile(0.25)\n",
    "Q3_sell = df_transformed['selling_price'].quantile(0.75)\n",
    "IQR_sell = Q3_sell - Q1_sell\n",
    "\n",
    "Q1_km = df_transformed['km_driven'].quantile(0.25)\n",
    "Q3_km = df_transformed['km_driven'].quantile(0.75)\n",
    "IQR_km = Q3_km - Q1_km\n",
    "\n",
    "# Outlier thresholds\n",
    "outlier_threshold_sell = (Q1_sell - 1.5 * IQR_sell, Q3_sell + 1.5 * IQR_sell)\n",
    "outlier_threshold_km = (Q1_km - 1.5 * IQR_km, Q3_km + 1.5 * IQR_km)\n",
    "\n",
    "# Identify outliers\n",
    "outliers = df_transformed[\n",
    "    (df_transformed['selling_price'] < outlier_threshold_sell[0]) |\n",
    "    (df_transformed['selling_price'] > outlier_threshold_sell[1]) | \n",
    "    (df_transformed['km_driven'] < outlier_threshold_km[0]) |\n",
    "    (df_transformed['km_driven'] > outlier_threshold_km[1])\n",
    "]\n",
    "\n",
    "# Scatter plot with outliers highlighted\n",
    "plt.figure(figsize=(10, 6))\n",
    "sns.scatterplot(data=df_transformed, x='km_driven', y='selling_price', label='Normal Data')\n",
    "sns.scatterplot(data=outliers, x='km_driven', y='selling_price', color='red', label='Outliers')\n",
    "plt.title('Selling Price vs KM Driven with Outliers')\n",
    "plt.xlabel('KM Driven')\n",
    "plt.ylabel('Selling Price')\n",
    "plt.legend()\n",
    "plt.show()\n"
   ]
  },
  {
   "cell_type": "code",
   "execution_count": null,
   "metadata": {},
   "outputs": [],
   "source": [
    "# REMOVING OUTLIERS\n",
    "\n",
    "# Remove outliers\n",
    "cleaned_data = df_transformed[\n",
    "    (df_transformed['selling_price'] >= outlier_threshold_sell[0]) & \n",
    "    (df_transformed['selling_price'] <= outlier_threshold_sell[1]) &\n",
    "    (df_transformed['km_driven'] >= outlier_threshold_km[0]) & \n",
    "    (df_transformed['km_driven'] <= outlier_threshold_km[1])\n",
    "]\n",
    "cleaned_data.reset_index(drop=True)"
   ]
  },
  {
   "cell_type": "code",
   "execution_count": null,
   "metadata": {},
   "outputs": [],
   "source": [
    "plt.figure(figsize=(10, 6))\n",
    "sns.scatterplot(data=cleaned_data, x='km_driven', y='selling_price')\n",
    "plt.title('Selling Price vs KM Driven (Without Outliers)')\n",
    "plt.xlabel('KM Driven')\n",
    "plt.ylabel('Selling Price')\n",
    "plt.show()"
   ]
  },
  {
   "cell_type": "markdown",
   "metadata": {},
   "source": [
    "#### Now it's somewhat visible the little negative correlation"
   ]
  },
  {
   "cell_type": "markdown",
   "metadata": {},
   "source": [
    "### **12. Perform a bi-variate analysis to visualize the relationship between  year and selling_price.**"
   ]
  },
  {
   "cell_type": "code",
   "execution_count": null,
   "metadata": {},
   "outputs": [],
   "source": [
    "df2 = data[['year','selling_price']]\n",
    "df2"
   ]
  },
  {
   "cell_type": "code",
   "execution_count": null,
   "metadata": {},
   "outputs": [],
   "source": [
    "r_year_sp = round(df2.corr().iloc[0,1],3)\n",
    "print(f\"The correlation coefficient between year and selling price is {r_year_sp}\")"
   ]
  },
  {
   "cell_type": "code",
   "execution_count": null,
   "metadata": {},
   "outputs": [],
   "source": [
    "plt.figure(figsize= (12,7))\n",
    "plt.title(\"Heatmap of the correlation between Year and Selling Price of Bikes\")\n",
    "sns.heatmap(df2.corr(), annot= True)\n",
    "plt.show()"
   ]
  },
  {
   "cell_type": "code",
   "execution_count": null,
   "metadata": {},
   "outputs": [],
   "source": [
    "# to visualize the outliers\n",
    "plt.title(\"Box plot of the selling Price\")\n",
    "sns.boxplot(data=df2, x = 'selling_price')\n",
    "plt.show()"
   ]
  },
  {
   "cell_type": "code",
   "execution_count": null,
   "metadata": {},
   "outputs": [],
   "source": []
  },
  {
   "cell_type": "code",
   "execution_count": null,
   "metadata": {},
   "outputs": [],
   "source": [
    "plt.figure(figsize=(12,8))\n",
    "plt.title(\"Scatter Plot of selling price vs Year\")\n",
    "sns.scatterplot(data = df2, x = 'year', y = 'selling_price')\n",
    "plt.show()"
   ]
  },
  {
   "cell_type": "code",
   "execution_count": null,
   "metadata": {},
   "outputs": [],
   "source": [
    "plt.figure(figsize=(12,8))\n",
    "plt.title(\"Line plot of Selling Price over the year\")\n",
    "sns.lineplot(data = df2, x = 'year', y = 'selling_price')\n",
    "plt.show()"
   ]
  },
  {
   "cell_type": "markdown",
   "metadata": {},
   "source": [
    "### **13. What is the average depreciation in selling price based on the bike's age (current year - manufacturing year)**"
   ]
  },
  {
   "cell_type": "code",
   "execution_count": null,
   "metadata": {},
   "outputs": [],
   "source": [
    "df_depreciation = data.dropna().reset_index()\n",
    "df_depreciation"
   ]
  },
  {
   "cell_type": "code",
   "execution_count": null,
   "metadata": {},
   "outputs": [],
   "source": [
    "bike_age = 2025 - df_depreciation['year']"
   ]
  },
  {
   "cell_type": "code",
   "execution_count": null,
   "metadata": {},
   "outputs": [],
   "source": [
    "df_age_sell = pd.concat([df_depreciation['selling_price'],bike_age], axis=1)\n",
    "df_age_sell.columns = (['selling_price','age'])\n",
    "df_age_sell"
   ]
  },
  {
   "cell_type": "code",
   "execution_count": null,
   "metadata": {},
   "outputs": [],
   "source": [
    "print(f\"The correlation coefficient between age and selling price is : {df_age_sell.corr().iloc[0,1]:.3f}\")\n",
    "\n",
    "#This shows as age increases, selling price decreases."
   ]
  },
  {
   "cell_type": "code",
   "execution_count": null,
   "metadata": {},
   "outputs": [],
   "source": [
    "plt.figure(figsize=(12,9))\n",
    "plt.title(\"Scatter Plot of Age vs Selling Price\")\n",
    "sns.scatterplot(data=df_age_sell, x = 'age', y = 'selling_price')\n",
    "plt.show()"
   ]
  },
  {
   "cell_type": "code",
   "execution_count": null,
   "metadata": {},
   "outputs": [],
   "source": [
    "plt.figure(figsize=(12,9))\n",
    "plt.title(\"Line Plot of selling price with Age\")\n",
    "sns.lineplot(data = df_age_sell, x = 'age', y = 'selling_price')\n",
    "plt.show()"
   ]
  },
  {
   "cell_type": "code",
   "execution_count": null,
   "metadata": {},
   "outputs": [],
   "source": [
    "data['name'].value_counts()"
   ]
  },
  {
   "cell_type": "code",
   "execution_count": null,
   "metadata": {},
   "outputs": [],
   "source": []
  },
  {
   "cell_type": "code",
   "execution_count": null,
   "metadata": {},
   "outputs": [],
   "source": []
  },
  {
   "cell_type": "code",
   "execution_count": null,
   "metadata": {},
   "outputs": [],
   "source": []
  },
  {
   "cell_type": "markdown",
   "metadata": {},
   "source": [
    "### **14. Which bike names are priced significantly above the average price for their manufacturing year?**"
   ]
  },
  {
   "cell_type": "code",
   "execution_count": null,
   "metadata": {},
   "outputs": [],
   "source": []
  },
  {
   "cell_type": "code",
   "execution_count": null,
   "metadata": {},
   "outputs": [],
   "source": []
  },
  {
   "cell_type": "code",
   "execution_count": null,
   "metadata": {},
   "outputs": [],
   "source": []
  },
  {
   "cell_type": "code",
   "execution_count": null,
   "metadata": {},
   "outputs": [],
   "source": []
  },
  {
   "cell_type": "markdown",
   "metadata": {},
   "source": [
    "### **15. Develop a correlation matrix for numeric columns and visualize it using a heatmap**"
   ]
  },
  {
   "cell_type": "code",
   "execution_count": null,
   "metadata": {},
   "outputs": [],
   "source": [
    "num_cols = data[['selling_price','year','km_driven','ex_showroom_price']].dropna().reset_index()\n",
    "num_cols"
   ]
  },
  {
   "cell_type": "code",
   "execution_count": null,
   "metadata": {},
   "outputs": [],
   "source": [
    "num_cols.corr()"
   ]
  },
  {
   "cell_type": "code",
   "execution_count": null,
   "metadata": {},
   "outputs": [],
   "source": [
    "plt.figure(figsize=(12,8))\n",
    "plt.title(\"Heatmap of all the numeric values (Null values are dropped)\")\n",
    "sns.heatmap(num_cols.corr(), annot=True)\n",
    "plt.show()"
   ]
  }
 ],
 "metadata": {
  "kernelspec": {
   "display_name": "base",
   "language": "python",
   "name": "python3"
  },
  "language_info": {
   "codemirror_mode": {
    "name": "ipython",
    "version": 3
   },
   "file_extension": ".py",
   "mimetype": "text/x-python",
   "name": "python",
   "nbconvert_exporter": "python",
   "pygments_lexer": "ipython3",
   "version": "3.12.7"
  }
 },
 "nbformat": 4,
 "nbformat_minor": 2
}
