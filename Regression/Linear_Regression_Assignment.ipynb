{
  "cells": [
    {
      "cell_type": "markdown",
      "id": "c5281c40",
      "metadata": {
        "id": "c5281c40"
      },
      "source": [
        "### **1. What is Simple Linear Regression?**"
      ]
    },
    {
      "cell_type": "markdown",
      "id": "QzZHXtntoNEn",
      "metadata": {
        "id": "QzZHXtntoNEn"
      },
      "source": [
        "**Simple Linear Regression**\n",
        "\n",
        "- Definition:\n",
        "    > Simple Linear Regression (SLR) is a statistical method that models the relationship between two variables by fitting a straight line to the data. Simple linear regression is applied in case of one independent feature, otherwise in case of multiple features that becomes multiple linear regression. It helps us predict the dependent variable $Y$ based on the independent variable $X$.\n",
        "\n",
        "\n",
        "> The equation for Simple Linear Regression is:\n",
        "$Y = mX + c + \\epsilon $\n",
        "\n",
        "where:\n",
        "- $Y$ = dependent variable (response)\n",
        "- $X$= independent variable (predictor)\n",
        "- $ m$ = slope (rate of change of \\( Y \\) with respect to \\( X \\))\n",
        "- $ c$ = intercept (value of \\( Y \\) when \\( X = 0 \\))\n",
        "- $ \\epsilon $ = error term\n",
        "\n",
        "> Use Cases\n",
        "- Predicting house prices based on square footage.\n",
        "- Estimating salary based on years of experience.\n",
        "- Forecasting sales based on advertising spend.\n"
      ]
    },
    {
      "cell_type": "markdown",
      "id": "4b1fa024",
      "metadata": {
        "id": "4b1fa024"
      },
      "source": [
        "### **2. What are the key assumptions of Simple Linear Regression?**"
      ]
    },
    {
      "cell_type": "markdown",
      "id": "dGofI6TswYdw",
      "metadata": {
        "id": "dGofI6TswYdw"
      },
      "source": [
        "- For Simple Linear Regression (SLR) to be valid, the following assumptions must hold:\n",
        "\n",
        "    1. **Linearity**: The relationship between the independent variable \\(X\\) and the dependent variable \\(Y\\) is linear.\n",
        "    2. **Independence**: The residuals (errors) are independent of each other.\n",
        "    3. **Homoscedasticity**: The variance of residuals is constant across all levels of \\(X\\).\n",
        "    4. **Normality of Residuals**: The residuals should be normally distributed.\n",
        "    5. **No Perfect Multicollinearity**: This applies to Multiple Linear Regression, but in SLR, only one predictor exists.\n",
        "\n",
        "---\n"
      ]
    },
    {
      "cell_type": "markdown",
      "id": "6f8cde1e",
      "metadata": {
        "id": "6f8cde1e"
      },
      "source": [
        "### **3. What does the coefficient m represent in the equation Y=mX+c?**"
      ]
    },
    {
      "cell_type": "markdown",
      "id": "ZwHHEn_2xdhb",
      "metadata": {
        "id": "ZwHHEn_2xdhb"
      },
      "source": [
        "\n",
        "> The coefficient \\( m \\), known as the **slope** of the equation, represents the rate of change of \\( Y \\) with respect to \\( X \\).  \n",
        "\n",
        "- **Mathematical Interpretation:**  \n",
        "$m = \\frac{\\Delta Y}{\\Delta X}$\n",
        "  \n",
        "    - If \\( m \\) is **positive**, \\( Y \\) increases as \\( X \\) increases.\n",
        "    - If \\( m \\) is **negative**, \\( Y \\) decreases as \\( X \\) increases.\n",
        "    - If \\( m = 0 \\), \\( Y \\) does not change with \\( X \\).\n"
      ]
    },
    {
      "cell_type": "markdown",
      "id": "300fe52a",
      "metadata": {
        "id": "300fe52a"
      },
      "source": [
        "### **4. What does the intercept c represent in the equation Y=mX+c?**"
      ]
    },
    {
      "cell_type": "markdown",
      "id": "lkauc3JXzW4u",
      "metadata": {
        "id": "lkauc3JXzW4u"
      },
      "source": [
        "> The intercept \\( c \\) is the value of \\( Y \\) when \\( X = 0 \\). It represents the **baseline value** of the dependent variable. In other words c is the value where the line cuts the Y-axis when x = 0.\n",
        "\n",
        "\n",
        "- **interpretation:**  \n",
        "    - If \\( c \\) is **positive**, the regression line starts above zero.\n",
        "    - If \\( c \\) is **negative**, the regression line starts below zero.\n",
        "    - If \\( c = 0 \\), the line passes through the origin."
      ]
    },
    {
      "cell_type": "markdown",
      "id": "4190661c",
      "metadata": {
        "id": "4190661c"
      },
      "source": [
        "### **5. How do we calculate the slope m in Simple Linear Regression?**"
      ]
    },
    {
      "cell_type": "markdown",
      "id": "TTZjOGFG0p6i",
      "metadata": {
        "id": "TTZjOGFG0p6i"
      },
      "source": [
        "> The slope \\( m \\) is determined using the **least squares method**, which minimizes the sum of squared errors.\n",
        "\n",
        "- **Formula:**  \n",
        "$ \\min \\sum_{i=1}^{n} (Y_i - \\hat{Y_i})^2$\n",
        "\n",
        "where:\n",
        "- $Y_i$ is the actual value,\n",
        "- $ \\hat{Y_i} $ is the predicted value from the regression model,\n",
        "- The objective is to minimize the total squared difference between actual and predicted values.\n",
        "\n",
        "For **Simple Linear Regression**, let the equation for the best-fit line is:\n",
        "\n",
        "$Y = mX + c$\n",
        "\n",
        "and the **Least Squares Estimate** for the slope \\( m \\) comes out to be the following:\n",
        "\n",
        "$m = \\frac{\\sum (X_i - \\bar{X})(Y_i - \\bar{Y})}{\\sum (X_i - \\bar{X})^2}$\n",
        "\n",
        "- $(X_i, Y_i)$ are individual data points.\n",
        "- $( \\bar{X}, \\bar{Y} )$ are the mean values of \\( X \\) and \\( Y \\).\n",
        "\n"
      ]
    },
    {
      "cell_type": "markdown",
      "id": "5f53729e",
      "metadata": {
        "id": "5f53729e"
      },
      "source": [
        "### **6. What is the purpose of the least squares method in Simple Linear Regression?**\n",
        "\n",
        "- **Definition:**  \n",
        "    > The **least squares method** is a mathematical optimization technique used in regression to find the best-fitting line by minimizing the sum of squared of errors (differences between actual and predicted values).\n",
        "\n",
        "- The goal is to minimize the sum of squared residuals:\n",
        "\n",
        "> $\\min \\sum_{i=1}^{n} (Y_i - \\hat{Y_i})^2$\n",
        "\n",
        "where:\n",
        "- $( Y_i)$ is the actual value.\n",
        "- $( \\hat{Y_i} = mX_i + c )$ is the predicted value from the regression line.\n",
        "\n",
        "- OLS method is mostly useful for small datasets\n",
        "> - **Purpose:**  \n",
        "    - Ensures that the regression line best represents the relationship between \\( X \\) and \\( Y \\).\n",
        "    - Reduces the impact of large errors by squaring residuals.\n",
        "    - Provides a standard method for estimating regression coefficients.\n",
        "    - Helps in making accurate predictions based on given data.\n",
        "\n",
        "\n",
        "\n"
      ]
    },
    {
      "cell_type": "markdown",
      "id": "afeb41e5",
      "metadata": {
        "id": "afeb41e5"
      },
      "source": [
        "### **7. How is the coefficient of determination (R²) interpreted in Simple Linear Regression?**\n",
        "\n",
        "- **Definition:**  \n",
        "    > The coefficient of determination $( R^2 )$ measures how well the independent variable $( X )$ explains the variability in the dependent variable $( Y )$. It indicates the goodness of fit of the regression model.\n",
        "\n",
        "- **Formula:**  \n",
        "    $R^2 = 1 - \\frac{\\text{Sum of Squared Errors (SSE)}}{\\text{Total Sum of Squares (SST)}}$\n",
        "    \n",
        "    $R^2 = 1 - \\frac{\\sum (Y_i - \\hat{Y_i})^2}{\\sum (Y_i - \\bar{Y})^2}$\n",
        "\n",
        "    where:\n",
        "    - **SSE (Sum of Squared Errors)**: How much our predictions **miss** the actual values.\n",
        "    - **SST (Total Sum of Squares)**: The **total variation** in $( Y )$, without considering $( X )$ means mathematically, it's $ \\sum (Y_i - \\bar{Y})^2$\n",
        "    \n",
        "    - **$( R^2 )$ is a ratio**: It compares the **error in our model** to the **total variation in data**.\n",
        "\n",
        "- **Interpretation and Properties:**  \n",
        "    - $( R^2 = 1 )$: The model perfectly explains the variance in $( Y )$ means perfect fit.\n",
        "    - $( R^2 = 0 )$: The model explains no variance in $( Y )$ (random prediction) NO fit.\n",
        "    - Higher $( R^2 )$ means a better fit, but it does not indicate causation.\n",
        "    - For example **$R^2 = 0.875$ means 87.5% of the variation in $Y$ can be explained by the dependent variable $X$** with that specific model.\n",
        "    - Higher $R^2$ **generally means better model fit** but not always. like adding more features which might not be helpful but that can increase the $R^2$ value artificially.\n",
        "    - Non-Linear relationships might have low $R^2$ even with a good model, and TO FIX THESE ISSUES, WE USE **Adjusted $R^2$**\n"
      ]
    },
    {
      "cell_type": "markdown",
      "id": "89c257b1",
      "metadata": {
        "id": "89c257b1"
      },
      "source": [
        "### **8. What is Multiple Linear Regression?**"
      ]
    },
    {
      "cell_type": "markdown",
      "id": "cfcbd460",
      "metadata": {},
      "source": [
        "\n",
        "- **Definition:**  \n",
        "    > Multiple Linear Regression (MLR) is an extension of Simple Linear Regression where *multiple independent variables* predict a single dependent variable.\n",
        "\n",
        "- **Equation:**  \n",
        "\n",
        "    $Y = b_0 + b_1X_1 + b_2X_2 + \\dots + b_nX_n + \\epsilon$\n",
        "\n",
        "    where:\n",
        "    - $Y$ = dependent variable.\n",
        "    - $(X_1, X_2, ..., X_n)$ = independent variables (predictors / features).\n",
        "    - $b_0$ = intercept.\n",
        "    - $(b_1, b_2, ..., b_n)$ = regression coefficients.\n",
        "    - $\\epsilon $ = error term.\n",
        "\n",
        "- **Use Cases:**\n",
        "    - Predicting house prices based on many other features like **size, location, and number of rooms**.\n",
        "    - Forecasting **sales** based on **advertising spend, season, and product type**.\n"
      ]
    },
    {
      "cell_type": "markdown",
      "id": "4fecc939",
      "metadata": {
        "id": "4fecc939"
      },
      "source": [
        "### **9. What is the main difference between Simple and Multiple Linear Regression?**"
      ]
    },
    {
      "cell_type": "markdown",
      "id": "155eee12",
      "metadata": {},
      "source": [
        "> **The key difference between SLR and MLR is the number of independent variable. Else,**\n",
        "\n",
        "| Feature               | Simple Linear Regression (SLR)  | Multiple Linear Regression (MLR) |\n",
        "|----------------------|----------------------------|----------------------------|\n",
        "| **Number of Predictors** | 1 independent variable $(X)$ | Multiple independent variables $(X_1, X_2, ..., X_n)$ |\n",
        "| **Equation** | $( Y = mX + c )$ | $( Y = b_0 + b_1X_1 + b_2X_2 + ... + b_nX_n)$ |\n",
        "| **Complexity** | Simple | More complex due to multiple predictors |\n",
        "| **Interpretation** | Easy to understand | Requires handling of multi-collinearity |\n",
        "\n"
      ]
    },
    {
      "cell_type": "markdown",
      "id": "6286ae4f",
      "metadata": {
        "id": "6286ae4f"
      },
      "source": [
        "### **10. What are the key assumptions of Multiple Linear Regression?**"
      ]
    },
    {
      "cell_type": "markdown",
      "id": "e387f7a4",
      "metadata": {},
      "source": [
        "    > Multiple Linear Regression relies on specific assumptions to provide valid and interpretable results.\n",
        "\n",
        "- **Key Assumptions:**\n",
        "    1. **Linearity**: The relationship between  $X$ and $Y$ must be linear.\n",
        "    2. **Independence**: Observations must be independent.\n",
        "    3. **Homoscedasticity**: Residual variance must be constant.\n",
        "    4. **Normality of Residuals**: Residuals should be normally distributed.\n",
        "    5. **No Multicollinearity**: Independent variables should not be highly correlated.\n",
        "    6. **No Autocorrelation**: Residuals should not be correlated (important for time series data).\n"
      ]
    },
    {
      "cell_type": "markdown",
      "id": "895f8bbe",
      "metadata": {
        "id": "895f8bbe"
      },
      "source": [
        "### **11. What is heteroscedasticity, and how does it affect the results of a Multiple Linear Regression model?**"
      ]
    },
    {
      "cell_type": "markdown",
      "id": "a568620c",
      "metadata": {},
      "source": [
        "- **Definition:**  \n",
        "    > Heteroskedasticity occurs when the variance of residuals is **not constant** across all levels of $X$.\n",
        "\n",
        "- **Effect on Model:**\n",
        "    - Violates the assumption of constant variance.\n",
        "    - Makes predictions less reliable.\n",
        "    - Leads to biased standard errors, affecting hypothesis testing.\n",
        "\n",
        "- **Detection Methods:**\n",
        "    - **Residual Plots**: A non-random pattern in residuals indicates heteroscedasticity.\n",
        "    - **Breusch-Pagan Test**: A statistical test for heteroscedasticity.\n",
        "\n",
        "- **Fixing Methods:**\n",
        "    - **Log Transformation** of the dependent variable.\n",
        "    - **Weighted Least Squares (WLS)** regression.\n",
        "    - **Using robust standard errors**.\n"
      ]
    },
    {
      "cell_type": "markdown",
      "id": "731922db",
      "metadata": {
        "id": "731922db"
      },
      "source": [
        "### **12. How can you improve a Multiple Linear Regression model with high multicollinearity?**"
      ]
    },
    {
      "cell_type": "markdown",
      "id": "291efd5e",
      "metadata": {},
      "source": [
        "\n",
        "> Multicollinearity occurs when two or more independent variables are highly correlated, makes it difficult to determine their individual effects on $Y$.\n",
        "- **Detection Methods:**\n",
        "    - **Variance Inflation Factor (VIF)**: If $VIF > 5$, multicollinearity is a concern.\n",
        "    - **Correlation Matrix**: High correlations $( > 0.8 )$ between predictors suggest multicollinearity.\n",
        "\n",
        "- **Solutions:**\n",
        "    - Remove highly correlated variables.\n",
        "    - Use **Principal Component Analysis (PCA)** to reduce dimensionality.\n",
        "    - Use **Ridge Regression or Lasso Regression** for better coefficient estimation.\n"
      ]
    },
    {
      "cell_type": "markdown",
      "id": "2f66ed8f",
      "metadata": {
        "id": "2f66ed8f"
      },
      "source": [
        "### **13. What are some common techniques for transforming categorical variables for use in regression models?**"
      ]
    },
    {
      "cell_type": "markdown",
      "id": "ec39e058",
      "metadata": {},
      "source": [
        " \n",
        "> Categorical variables must be converted into numerical form using various encoding technique before being used in regression models.\n",
        "\n",
        "- **Common Techniques:**\n",
        "    - **One-Hot Encoding (OHE)**: Creates binary variables for each category.\n",
        "    - **Label Encoding**: Assigns numerical values to categories (e.g., Male = 0, Female = 1).\n",
        "    - **Ordinal Encoding**: Used when categories have a meaningful order (e.g., Low < Medium < High).\n"
      ]
    },
    {
      "cell_type": "markdown",
      "id": "7be95bfc",
      "metadata": {
        "id": "7be95bfc"
      },
      "source": [
        "### **14. What is the role of interaction terms in Multiple Linear Regression?**"
      ]
    },
    {
      "cell_type": "markdown",
      "id": "fe58eb89",
      "metadata": {},
      "source": [
        "> Interaction terms capture the combined effect of two independent variables on $Y$.\n",
        "\n",
        "- **Equation with Interaction Term:**\n",
        "    $Y = b_0 + b_1X_1 + b_2X_2 + b_3(X_1 \\times X_2) + \\epsilon$\n",
        "    \n",
        "- **Use Cases:**\n",
        "    - In **marketing**, an increase in **ad spend** and a **holiday season** together may impact sales more than individually.\n",
        "    - In **health studies**, the combined effect of **exercise** and **diet** may influence weight loss more than either alone.\n"
      ]
    },
    {
      "cell_type": "markdown",
      "id": "fef7356e",
      "metadata": {
        "id": "fef7356e"
      },
      "source": [
        "### **15. How can the interpretation of intercept differ between Simple and Multiple Linear Regression?**"
      ]
    },
    {
      "cell_type": "markdown",
      "id": "9f393f8f",
      "metadata": {},
      "source": [
        "- **In Simple Linear Regression **$Y = mX + c$**:\n",
        "    - The **intercept $( c )$** represents the predicted value of $( Y )$ when $ X = 0 $.\n",
        "\n",
        "- **In Multiple Linear Regression $( Y = b_0 + b_1X_1 + b_2X_2 + ... )$**:\n",
        "    - The **intercept $( b_0 )$** represents the predicted $( Y )$ when **all** independent variables are zero.\n",
        "\n",
        "- **Important Consideration:**\n",
        "    - If $X$ values never approach zero, the intercept may have no meaningful interpretation.\n"
      ]
    },
    {
      "cell_type": "markdown",
      "id": "863fb55b",
      "metadata": {
        "id": "863fb55b"
      },
      "source": [
        "### **16. What is the significance of the slope in regression analysis, and how does it affect predictions?**"
      ]
    },
    {
      "cell_type": "markdown",
      "id": "74a1a9c0",
      "metadata": {},
      "source": [
        "\n",
        "- The **slope** in regression represents the **rate of change** of the dependent variable (\\( Y \\)) with respect to the independent variable (\\( X \\)).\n",
        "- It tells us **how much \\( Y \\) changes for a one-unit increase in \\( X \\)**.\n",
        "\n",
        "- For **Simple Linear Regression**, the equation is:\n",
        "\n",
        "    $Y = mX + c$\n",
        "\n",
        "where:\n",
        "- $( c )$ = intercept\n",
        "- $( Y )$ = predicted value\n",
        "- $( m )$ = **slope** (coefficient of \\( X \\))\n",
        "- $( X )$ = independent variable\n",
        "\n",
        "The slope is calculated as:\n",
        "\n",
        "$m = \\frac{\\sum (X_i - \\bar{X})(Y_i - \\bar{Y})}{\\sum (X_i - \\bar{X})^2}$\n",
        "\n",
        "\n",
        "---\n",
        "\n",
        "- **Significance of the Slope**\n",
        "    1. **Direction of Relationship**\n",
        "        - If  $m > 0$, **positive correlation**: As $X$ increases, $Y$ also increases.\n",
        "        - If  $m < 0$, **negative correlation**: As $X$ increases, $Y$ decreases.\n",
        "        - If  $m = 0$, **no correlation**: Changes in  $X$ have no effect on $Y$.\n",
        "\n",
        "2. **Magnitude of Change**\n",
        "   - The **larger** the absolute value of \\( m \\), the **steeper** the slope, meaning \\( Y \\) changes **more rapidly** with \\( X \\).\n",
        "   - A **small slope** means \\( Y \\) changes **slowly** with \\( X \\).\n",
        "\n",
        "\n"
      ]
    },
    {
      "cell_type": "markdown",
      "id": "06833675",
      "metadata": {
        "id": "06833675"
      },
      "source": [
        "### **17. How does the intercept in a regression model provide context for the relationship between variables?**"
      ]
    },
    {
      "cell_type": "markdown",
      "id": "0b2897a9",
      "metadata": {},
      "source": [
        "\n",
        "- The **intercept** (\\( c \\)) represents the predicted value of \\( Y \\) when \\( X = 0 \\).\n",
        "- It is the **baseline value** of the dependent variable before considering the effect of \\( X \\).\n",
        "\n",
        "- For Simple Linear Regression:\n",
        "\n",
        "$Y = mX + c$\n",
        "\n",
        "where \\( c \\) is the intercept.\n",
        "\n",
        "---\n",
        "\n",
        "- **Significance of the Intercept**\n",
        "    1. **Starting Value of \\( Y \\)**\n",
        "        - If \\( X = 0 \\), the predicted \\( Y \\) is simply \\( c \\).\n",
        "        - This gives a reference starting point for the model.\n",
        "\n",
        "2. **Real-World Meaning**\n",
        "   - In **some cases**, the intercept makes sense (e.g., predicting height from age).\n",
        "   - In **other cases**, it may be **meaningless** (e.g., predicting salary from years of experience when \\( X = 0 \\) is not realistic).\n"
      ]
    },
    {
      "cell_type": "markdown",
      "id": "37904903",
      "metadata": {
        "id": "37904903"
      },
      "source": [
        "### **18. What are the limitations of using R² as a sole measure of model performance?**"
      ]
    },
    {
      "cell_type": "markdown",
      "id": "8a0a5b20",
      "metadata": {},
      "source": [
        "\n",
        "$R^2$ tells us **how much variation in \\( Y \\) is explained by \\( X \\) for using the model**, but it has some **limitations**:\n",
        "\n",
        "\n",
        "1. **Adding More Features Increases \\( R^2 \\) Artificially**\n",
        "   - Even more **random variables** can increase \\( R^2 \\).\n",
        "   - A high \\( R^2 \\) doesn’t always mean the model is **good**.\n",
        "\n",
        "3. **It Ignores Model Complexity**\n",
        "   - A **simple** model with an \\( R^2 \\) of 0.75 might be **better** than a complex one with \\( R^2 = 0.80 \\).\n",
        "\n",
        "---\n",
        "\n",
        "- **Example: Predicting House Prices**\n",
        "\n",
        "| Model | Features Used | \\( R^2 \\) |\n",
        "|-------|--------------|-----------|\n",
        "| Model 1 | Square footage | 0.75 |\n",
        "| Model 2 | Square footage + Zip Code | 0.80 |\n",
        "| Model 3 | Square footage + Zip Code + Number of Pets | 0.85 |\n",
        "\n",
        "- **Model 3 has the highest \\( R^2 \\)**, but **\"Number of Pets\"** has no real impact on house prices.\n",
        "- This leads to **overfitting**, where the model fits **noise instead of patterns**.\n",
        "\n",
        "---\n",
        "\n",
        "- **Better Alternatives to \\( R^2 \\)**\n",
        "   1. **Adjusted \\( R^2 \\)**: Penalizes adding useless features.\n",
        "   2. **Mean Squared Error (MSE)**: Measures actual prediction error.\n",
        "   3. **Cross-validation**: Checks how well the model generalizes.\n",
        "\n",
        "As a conclusion we can note that \\( $R^2$ \\) **alone** is not enough; always check for **overfitting, causation, and real-world relevance**.\n"
      ]
    },
    {
      "cell_type": "markdown",
      "id": "eabc5125",
      "metadata": {
        "id": "eabc5125"
      },
      "source": [
        "### **19. How would you interpret a large standard error for a regression coefficient?**"
      ]
    },
    {
      "cell_type": "markdown",
      "id": "542daa80",
      "metadata": {},
      "source": [
        "\n",
        "**Standard Error of a Coefficient**\n",
        "    - The **standard error (SE)** measures **the uncertainty in the estimate** of a regression coefficient.\n",
        "    - A **large SE** means the coefficient **is not estimated precisely**.\n",
        "\n",
        "**Interpretation of a Large Standard Error**\n",
        "    - A **large SE** means:\n",
        "      - The estimated coefficient is **unstable**.\n",
        "      - There is **high variability** in the relationship between \\( X \\) and \\( Y \\).\n",
        "      - The predictor **may not be important**.\n",
        "\n",
        "- **If SE is large relative to the coefficient**, the confidence interval is wide, meaning predictions are **less reliable**.\n",
        "\n",
        " **Example: Predicting House Prices**\n",
        "\n",
        "| Variable | Coefficient (\\( b \\)) | Standard Error (\\( SE \\)) |\n",
        "|----------|----------------|----------------|\n",
        "| Square Footage | 200 | 15 |\n",
        "| Number of Pets | 5 | 50 |\n",
        "\n",
        "- **Square footage has a small SE**, meaning it is a **strong predictor**.\n",
        "- **Number of Pets has a large SE**, meaning it **adds noise** and is **not reliable**.\n",
        "\n",
        "\n",
        "- A **large SE** suggests a **weak predictor or insufficient data**.\n",
        "- **Reduce SE** by **adding more data** or **removing irrelevant variables**.\n"
      ]
    },
    {
      "cell_type": "markdown",
      "id": "f89aeb57",
      "metadata": {
        "id": "f89aeb57"
      },
      "source": [
        "### **20. How can heteroscedasticity be identified in residual plots, and why is it important to address it?**"
      ]
    },
    {
      "cell_type": "markdown",
      "id": "bd3902e9",
      "metadata": {},
      "source": [
        "**Heteroscedasticity-**\n",
        "    - **Heteroscedasticity** means that the **variance of residuals** is **not constant**.\n",
        "    - In a good regression model, residuals should have **constant variance**.\n",
        "\n",
        "**Identifying Heteroscedasticity**\n",
        "\n",
        "1. **Residual Plot Analysis**\n",
        "    - Plot **Residuals vs. Predicted Values**.\n",
        "    - If residuals form a **funnel shape (increasing spread)**, heteroscedasticity is present.\n",
        "       \n",
        "2. **Statistical Tests**\n",
        "    - **Breusch-Pagan Test**: Detects heteroscedasticity.\n",
        "    - **White’s Test**: Another method for checking variance inconsistency.\n",
        "\n",
        "- **Why is it Important?**\n",
        "    - **Biases standard errors**, leading to **incorrect hypothesis tests**.\n",
        "    - Makes predictions **less reliable**.\n",
        "\n",
        "**Fixing Heteroscedasticity**\n",
        "    - **Log Transform** dependent variable (\\( Y \\)).\n",
        "    - Use **Weighted Least Squares (WLS)**.\n",
        "    - Apply **Heteroscedasticity-Robust Standard Errors**.\n",
        "\n"
      ]
    },
    {
      "cell_type": "markdown",
      "id": "f3414570",
      "metadata": {
        "id": "f3414570"
      },
      "source": [
        "### **21. What does it mean if a Multiple Linear Regression model has a high R² but low adjusted R²?**"
      ]
    },
    {
      "cell_type": "markdown",
      "id": "4ccd2d1e",
      "metadata": {},
      "source": [
        "\n",
        "- **$R^2$** increases when we add more predictors/features, even if they are **useless**.\n",
        "- **Adjusted $R^2$** penalizes unnecessary predictors, adjusting for model complexity.\n",
        "\n",
        "**Interpretation of High $R^2$ and Low Adjusted $R^2$**:\n",
        "\n",
        "  - The model **have irrelevant features**.\n",
        "  - Extra variables **do not improve the model** but **inflate $R^2$ artificially**.\n",
        "\n",
        "- **Example**\n",
        "\n",
        "| Model | Features | $R^2$ | Adjusted $R^2$ |\n",
        "|-------|---------|------|--------------|\n",
        "| Model 1 | Square Footage | 0.80 | 0.78 |\n",
        "| Model 2 | Square Footage + Number of Pets | 0.85 | 0.70 |\n",
        "\n",
        "- Model 2 has **higher \\( R^2 \\)** but **lower Adjusted \\( R^2 \\)**, meaning **\"Number of Pets\" adds no real value**.\n",
        "\n",
        "\n"
      ]
    },
    {
      "cell_type": "markdown",
      "id": "71c63a4f",
      "metadata": {
        "id": "71c63a4f"
      },
      "source": [
        "### **22. Why is it important to scale variables in Multiple Linear Regression?**"
      ]
    },
    {
      "cell_type": "markdown",
      "id": "6d04c6de",
      "metadata": {},
      "source": [
        "- **Why Scale Variables?**\n",
        "\n",
        "  - In Multiple Linear Regression, predictors can have **different ranges**.\n",
        "  - **Scaling ensures fair comparison** by bringing all variables to a similar scale.\n",
        "\n",
        "**Effects of Not Scaling**\n",
        "  1. **Incorrect Coefficient Interpretation** - Large-scale variables dominate smaller ones.\n",
        "  2. **Slow Gradient Descent Convergence** - In machine learning models like linear regression with *gradient-based optimization*, unscaled variables slow learning.\n",
        "\n",
        "**Methods to Scale Variables**\n",
        "  - **Standardization** (Z-score scaling):\n",
        "  \n",
        "  $X' = \\frac{X - \\bar{X}}{\\sigma}$\n",
        "\n",
        "  - **Min-Max Scaling** (0-1 scaling):\n",
        "    \n",
        "  $X' = \\frac{X - X_{\\min}}{X_{\\max} - X_{\\min}}$\n",
        "\n"
      ]
    },
    {
      "cell_type": "markdown",
      "id": "39b8ff5c",
      "metadata": {
        "id": "39b8ff5c"
      },
      "source": [
        "### **23. What is polynomial regression?**"
      ]
    },
    {
      "cell_type": "markdown",
      "id": "2c7d744d",
      "metadata": {},
      "source": [
        "**Definition**\n",
        "    - Polynomial Regression is an **extension of Linear Regression** that models **non-linear relationships**.\n",
        "\n",
        "**n-th degree polynomial Equation -**\n",
        "\n",
        "$Y = b_0 + b_1X + b_2X^2 + b_3X^3 + ... + b_nX^n + \\epsilon$\n",
        "\n",
        "\n",
        "- Higher degree adds more curvatures in the model.\n",
        "\n",
        "**Example: Predicting House Prices**\n",
        "- Linear Model: **\\( Y = 200X + 50,000 \\)**\n",
        "- Polynomial Model: **\\( Y = 5X^2 + 200X + 50,000 \\)** (captures non-linearity/curves)\n",
        "\n"
      ]
    },
    {
      "cell_type": "markdown",
      "id": "0254d938",
      "metadata": {
        "id": "0254d938"
      },
      "source": [
        "### **24. How does polynomial regression differ from linear regression?**"
      ]
    },
    {
      "cell_type": "markdown",
      "id": "86f277e3",
      "metadata": {},
      "source": [
        "**Key Difference is that Polynomial regression captures the curvature the data if any**\n",
        "\n",
        "| Feature | Linear Regression | Polynomial Regression |\n",
        "|---------|----------------|----------------|\n",
        "| **Equation** | Y = mX + c  | $Y = b_0 + b_1X + b_2X^2 + ...$ |\n",
        "| **Fit Model Shape** | Straight line | Curved line |\n",
        "| **Use Case** | Linear relationships | Non-linear relationships |\n",
        "| **Overfitting Risk** | Low | Higher for high-degree polynomials |\n"
      ]
    },
    {
      "cell_type": "markdown",
      "id": "f7364fc8",
      "metadata": {
        "id": "f7364fc8"
      },
      "source": [
        "### **25. When is polynomial regression used?**"
      ]
    },
    {
      "cell_type": "markdown",
      "id": "64833ab2",
      "metadata": {},
      "source": [
        "\n",
        "- When data shows a **curved pattern** that linear regression may not capture well enough.\n",
        "\n",
        "**Example: Growth of a Business**\n",
        "\n",
        "- A startup's revenue may **grow exponentially** rather than linearly.\n",
        "- Polynomial Regression captures **non-linear growth trends**.\n",
        "\n",
        "In conclusion, we use polynomial regression when the data points indicates non-linear relations."
      ]
    },
    {
      "cell_type": "markdown",
      "id": "cc9eeef7",
      "metadata": {
        "id": "cc9eeef7"
      },
      "source": [
        "### **26. What is the general equation for polynomial regression?**"
      ]
    },
    {
      "cell_type": "markdown",
      "id": "19453fe2",
      "metadata": {},
      "source": [
        "\n",
        "A **Polynomial Regression model** extends Linear Regression by including **higher-degree terms** which adds the curves:\n",
        "\n",
        "In general a *n-th degree* polynomial regression equation is-\n",
        "\n",
        "$Y = b_0 + b_1X + b_2X^2 + b_3X^3 + \\dots + b_nX^n + \\epsilon$\n",
        "\n",
        "where:\n",
        "- $b_0$ = **Intercept**\n",
        "- $b_1, \\dots, b_n$ = **coefficients**.\n",
        "- $X^n$ = **n-th-degree term** to capture non-linearity.\n",
        "- $\\epsilon$ = **error term**.\n",
        "\n"
      ]
    },
    {
      "cell_type": "markdown",
      "id": "5baf984a",
      "metadata": {
        "id": "5baf984a"
      },
      "source": [
        "### **27. Can polynomial regression be applied to multiple variables?**"
      ]
    },
    {
      "cell_type": "markdown",
      "id": "55bf9557",
      "metadata": {},
      "source": [
        "\n",
        "For **two variables $(X_1, X_2)$**, our polynomial equation becomes:\n",
        "\n",
        "$Y = b_0 + b_1X_1 + b_2X_2 + b_3X_1^2 + b_4X_2^2 + b_5X_1X_2 + \\dots + \\epsilon$\n",
        "\n",
        "\n"
      ]
    },
    {
      "cell_type": "markdown",
      "id": "3f35d26f",
      "metadata": {
        "id": "3f35d26f"
      },
      "source": [
        "### **28. What are the limitations of polynomial regression?**"
      ]
    },
    {
      "cell_type": "markdown",
      "id": "ed1ee7e7",
      "metadata": {},
      "source": [
        "**Key Limitations**\n",
        "\n",
        "1. **Overfitting**\n",
        "   - High-degree polynomials fit training data well but fail on new data.\n",
        "\n",
        "2. **Computational Complexity**\n",
        "   - Large-degree polynomials increase computation time.\n",
        "\n",
        "3. **Extrapolation Issues**\n",
        "   - Predictions outside training data range become highly unreliable.\n",
        "\n",
        "4. **Collinearity**\n",
        "   - Higher-degree terms **correlate strongly**, causing **unstable coefficients**.\n",
        "\n"
      ]
    },
    {
      "cell_type": "markdown",
      "id": "0c8cd04f",
      "metadata": {
        "id": "0c8cd04f"
      },
      "source": [
        "### **29. What methods can be used to evaluate model fit when selecting the degree of a polynomial?**"
      ]
    },
    {
      "cell_type": "markdown",
      "id": "a238774b",
      "metadata": {},
      "source": [
        "**Evaluation Methods**\n",
        "\n",
        "1. **Adjusted \\( R^2 \\)**\n",
        "   - Penalizes **useless features addition**, preventing **overfitting**.\n",
        "\n",
        "2. **Cross-Validation**\n",
        "   - Splits data into **training and testing sets** to evaluate **real performance**.\n",
        "\n",
        "3. **Mean Squared Error (MSE)**\n",
        "\n",
        "   $MSE = \\frac{1}{n} \\sum (Y_i - \\hat{Y_i})^2$\n",
        "\n",
        "4. **Visualization**\n",
        "   - Plot **predictions vs. actual data** to check for **overfitting or underfitting**.\n",
        "\n"
      ]
    },
    {
      "cell_type": "markdown",
      "id": "37b3f523",
      "metadata": {
        "id": "37b3f523"
      },
      "source": [
        "### **31. Why is visualization important in polynomial regression?**"
      ]
    },
    {
      "cell_type": "markdown",
      "id": "ce92bad0",
      "metadata": {},
      "source": [
        "**Importance of Visualization**\n",
        "\n",
        "1. **To Detect Overfitting or Underfitting**\n",
        "   - Helps to see how well the curve fits the data.\n",
        "\n",
        "2. **Validates Model Choice**\n",
        "   - Ensures the selected **polynomial degree** is appropriate.\n",
        "\n",
        "3. **Interprets Model Behavior**\n",
        "   - Shows where the model makes **unrealistic predictions**.\n",
        "\n",
        "**Example**\n",
        "- Scatter plot + Regression curve:\n",
        "\n",
        "\n"
      ]
    },
    {
      "cell_type": "markdown",
      "id": "a035d2a4",
      "metadata": {
        "id": "a035d2a4"
      },
      "source": [
        "### **32. How is polynomial regression implemented in Python?**"
      ]
    },
    {
      "cell_type": "markdown",
      "id": "5dc4b3ec",
      "metadata": {},
      "source": [
        "using `PolynomialFeatures` from the scikit-learn library"
      ]
    },
    {
      "cell_type": "code",
      "execution_count": 2,
      "id": "41872357",
      "metadata": {},
      "outputs": [],
      "source": [
        "import numpy as np\n",
        "import pandas as pd\n",
        "import matplotlib.pyplot as plt\n",
        "from sklearn.preprocessing import PolynomialFeatures\n",
        "from sklearn.linear_model import LinearRegression"
      ]
    },
    {
      "cell_type": "code",
      "execution_count": 19,
      "id": "18582157",
      "metadata": {},
      "outputs": [],
      "source": [
        "X = np.array([1, 2, 3, 4, 5, 6, 7, 8, 9]).reshape(-1,1)\n",
        "Y = np.array([3, 7, 9, 12, 30, 39, 41, 59, 75])"
      ]
    },
    {
      "cell_type": "code",
      "execution_count": 20,
      "id": "05362aef",
      "metadata": {},
      "outputs": [
        {
          "data": {
            "text/plain": [
              "array([[ 1.,  1.,  1.],\n",
              "       [ 1.,  2.,  4.],\n",
              "       [ 1.,  3.,  9.],\n",
              "       [ 1.,  4., 16.],\n",
              "       [ 1.,  5., 25.],\n",
              "       [ 1.,  6., 36.],\n",
              "       [ 1.,  7., 49.],\n",
              "       [ 1.,  8., 64.],\n",
              "       [ 1.,  9., 81.]])"
            ]
          },
          "execution_count": 20,
          "metadata": {},
          "output_type": "execute_result"
        }
      ],
      "source": [
        "# Transforming X to polynomial\n",
        "\n",
        "poly = PolynomialFeatures(degree=2)\n",
        "x_poly = poly.fit_transform(X)\n",
        "\n",
        "x_poly  # gives $X^0 , X**1, X^2$"
      ]
    },
    {
      "cell_type": "code",
      "execution_count": 21,
      "id": "0e19ee1f",
      "metadata": {},
      "outputs": [
        {
          "data": {
            "text/plain": [
              "(9, 3)"
            ]
          },
          "execution_count": 21,
          "metadata": {},
          "output_type": "execute_result"
        }
      ],
      "source": [
        "x_poly.shape"
      ]
    },
    {
      "cell_type": "code",
      "execution_count": 22,
      "id": "53186aae",
      "metadata": {},
      "outputs": [
        {
          "data": {
            "text/html": [
              "<style>#sk-container-id-2 {\n",
              "  /* Definition of color scheme common for light and dark mode */\n",
              "  --sklearn-color-text: black;\n",
              "  --sklearn-color-line: gray;\n",
              "  /* Definition of color scheme for unfitted estimators */\n",
              "  --sklearn-color-unfitted-level-0: #fff5e6;\n",
              "  --sklearn-color-unfitted-level-1: #f6e4d2;\n",
              "  --sklearn-color-unfitted-level-2: #ffe0b3;\n",
              "  --sklearn-color-unfitted-level-3: chocolate;\n",
              "  /* Definition of color scheme for fitted estimators */\n",
              "  --sklearn-color-fitted-level-0: #f0f8ff;\n",
              "  --sklearn-color-fitted-level-1: #d4ebff;\n",
              "  --sklearn-color-fitted-level-2: #b3dbfd;\n",
              "  --sklearn-color-fitted-level-3: cornflowerblue;\n",
              "\n",
              "  /* Specific color for light theme */\n",
              "  --sklearn-color-text-on-default-background: var(--sg-text-color, var(--theme-code-foreground, var(--jp-content-font-color1, black)));\n",
              "  --sklearn-color-background: var(--sg-background-color, var(--theme-background, var(--jp-layout-color0, white)));\n",
              "  --sklearn-color-border-box: var(--sg-text-color, var(--theme-code-foreground, var(--jp-content-font-color1, black)));\n",
              "  --sklearn-color-icon: #696969;\n",
              "\n",
              "  @media (prefers-color-scheme: dark) {\n",
              "    /* Redefinition of color scheme for dark theme */\n",
              "    --sklearn-color-text-on-default-background: var(--sg-text-color, var(--theme-code-foreground, var(--jp-content-font-color1, white)));\n",
              "    --sklearn-color-background: var(--sg-background-color, var(--theme-background, var(--jp-layout-color0, #111)));\n",
              "    --sklearn-color-border-box: var(--sg-text-color, var(--theme-code-foreground, var(--jp-content-font-color1, white)));\n",
              "    --sklearn-color-icon: #878787;\n",
              "  }\n",
              "}\n",
              "\n",
              "#sk-container-id-2 {\n",
              "  color: var(--sklearn-color-text);\n",
              "}\n",
              "\n",
              "#sk-container-id-2 pre {\n",
              "  padding: 0;\n",
              "}\n",
              "\n",
              "#sk-container-id-2 input.sk-hidden--visually {\n",
              "  border: 0;\n",
              "  clip: rect(1px 1px 1px 1px);\n",
              "  clip: rect(1px, 1px, 1px, 1px);\n",
              "  height: 1px;\n",
              "  margin: -1px;\n",
              "  overflow: hidden;\n",
              "  padding: 0;\n",
              "  position: absolute;\n",
              "  width: 1px;\n",
              "}\n",
              "\n",
              "#sk-container-id-2 div.sk-dashed-wrapped {\n",
              "  border: 1px dashed var(--sklearn-color-line);\n",
              "  margin: 0 0.4em 0.5em 0.4em;\n",
              "  box-sizing: border-box;\n",
              "  padding-bottom: 0.4em;\n",
              "  background-color: var(--sklearn-color-background);\n",
              "}\n",
              "\n",
              "#sk-container-id-2 div.sk-container {\n",
              "  /* jupyter's `normalize.less` sets `[hidden] { display: none; }`\n",
              "     but bootstrap.min.css set `[hidden] { display: none !important; }`\n",
              "     so we also need the `!important` here to be able to override the\n",
              "     default hidden behavior on the sphinx rendered scikit-learn.org.\n",
              "     See: https://github.com/scikit-learn/scikit-learn/issues/21755 */\n",
              "  display: inline-block !important;\n",
              "  position: relative;\n",
              "}\n",
              "\n",
              "#sk-container-id-2 div.sk-text-repr-fallback {\n",
              "  display: none;\n",
              "}\n",
              "\n",
              "div.sk-parallel-item,\n",
              "div.sk-serial,\n",
              "div.sk-item {\n",
              "  /* draw centered vertical line to link estimators */\n",
              "  background-image: linear-gradient(var(--sklearn-color-text-on-default-background), var(--sklearn-color-text-on-default-background));\n",
              "  background-size: 2px 100%;\n",
              "  background-repeat: no-repeat;\n",
              "  background-position: center center;\n",
              "}\n",
              "\n",
              "/* Parallel-specific style estimator block */\n",
              "\n",
              "#sk-container-id-2 div.sk-parallel-item::after {\n",
              "  content: \"\";\n",
              "  width: 100%;\n",
              "  border-bottom: 2px solid var(--sklearn-color-text-on-default-background);\n",
              "  flex-grow: 1;\n",
              "}\n",
              "\n",
              "#sk-container-id-2 div.sk-parallel {\n",
              "  display: flex;\n",
              "  align-items: stretch;\n",
              "  justify-content: center;\n",
              "  background-color: var(--sklearn-color-background);\n",
              "  position: relative;\n",
              "}\n",
              "\n",
              "#sk-container-id-2 div.sk-parallel-item {\n",
              "  display: flex;\n",
              "  flex-direction: column;\n",
              "}\n",
              "\n",
              "#sk-container-id-2 div.sk-parallel-item:first-child::after {\n",
              "  align-self: flex-end;\n",
              "  width: 50%;\n",
              "}\n",
              "\n",
              "#sk-container-id-2 div.sk-parallel-item:last-child::after {\n",
              "  align-self: flex-start;\n",
              "  width: 50%;\n",
              "}\n",
              "\n",
              "#sk-container-id-2 div.sk-parallel-item:only-child::after {\n",
              "  width: 0;\n",
              "}\n",
              "\n",
              "/* Serial-specific style estimator block */\n",
              "\n",
              "#sk-container-id-2 div.sk-serial {\n",
              "  display: flex;\n",
              "  flex-direction: column;\n",
              "  align-items: center;\n",
              "  background-color: var(--sklearn-color-background);\n",
              "  padding-right: 1em;\n",
              "  padding-left: 1em;\n",
              "}\n",
              "\n",
              "\n",
              "/* Toggleable style: style used for estimator/Pipeline/ColumnTransformer box that is\n",
              "clickable and can be expanded/collapsed.\n",
              "- Pipeline and ColumnTransformer use this feature and define the default style\n",
              "- Estimators will overwrite some part of the style using the `sk-estimator` class\n",
              "*/\n",
              "\n",
              "/* Pipeline and ColumnTransformer style (default) */\n",
              "\n",
              "#sk-container-id-2 div.sk-toggleable {\n",
              "  /* Default theme specific background. It is overwritten whether we have a\n",
              "  specific estimator or a Pipeline/ColumnTransformer */\n",
              "  background-color: var(--sklearn-color-background);\n",
              "}\n",
              "\n",
              "/* Toggleable label */\n",
              "#sk-container-id-2 label.sk-toggleable__label {\n",
              "  cursor: pointer;\n",
              "  display: block;\n",
              "  width: 100%;\n",
              "  margin-bottom: 0;\n",
              "  padding: 0.5em;\n",
              "  box-sizing: border-box;\n",
              "  text-align: center;\n",
              "}\n",
              "\n",
              "#sk-container-id-2 label.sk-toggleable__label-arrow:before {\n",
              "  /* Arrow on the left of the label */\n",
              "  content: \"▸\";\n",
              "  float: left;\n",
              "  margin-right: 0.25em;\n",
              "  color: var(--sklearn-color-icon);\n",
              "}\n",
              "\n",
              "#sk-container-id-2 label.sk-toggleable__label-arrow:hover:before {\n",
              "  color: var(--sklearn-color-text);\n",
              "}\n",
              "\n",
              "/* Toggleable content - dropdown */\n",
              "\n",
              "#sk-container-id-2 div.sk-toggleable__content {\n",
              "  max-height: 0;\n",
              "  max-width: 0;\n",
              "  overflow: hidden;\n",
              "  text-align: left;\n",
              "  /* unfitted */\n",
              "  background-color: var(--sklearn-color-unfitted-level-0);\n",
              "}\n",
              "\n",
              "#sk-container-id-2 div.sk-toggleable__content.fitted {\n",
              "  /* fitted */\n",
              "  background-color: var(--sklearn-color-fitted-level-0);\n",
              "}\n",
              "\n",
              "#sk-container-id-2 div.sk-toggleable__content pre {\n",
              "  margin: 0.2em;\n",
              "  border-radius: 0.25em;\n",
              "  color: var(--sklearn-color-text);\n",
              "  /* unfitted */\n",
              "  background-color: var(--sklearn-color-unfitted-level-0);\n",
              "}\n",
              "\n",
              "#sk-container-id-2 div.sk-toggleable__content.fitted pre {\n",
              "  /* unfitted */\n",
              "  background-color: var(--sklearn-color-fitted-level-0);\n",
              "}\n",
              "\n",
              "#sk-container-id-2 input.sk-toggleable__control:checked~div.sk-toggleable__content {\n",
              "  /* Expand drop-down */\n",
              "  max-height: 200px;\n",
              "  max-width: 100%;\n",
              "  overflow: auto;\n",
              "}\n",
              "\n",
              "#sk-container-id-2 input.sk-toggleable__control:checked~label.sk-toggleable__label-arrow:before {\n",
              "  content: \"▾\";\n",
              "}\n",
              "\n",
              "/* Pipeline/ColumnTransformer-specific style */\n",
              "\n",
              "#sk-container-id-2 div.sk-label input.sk-toggleable__control:checked~label.sk-toggleable__label {\n",
              "  color: var(--sklearn-color-text);\n",
              "  background-color: var(--sklearn-color-unfitted-level-2);\n",
              "}\n",
              "\n",
              "#sk-container-id-2 div.sk-label.fitted input.sk-toggleable__control:checked~label.sk-toggleable__label {\n",
              "  background-color: var(--sklearn-color-fitted-level-2);\n",
              "}\n",
              "\n",
              "/* Estimator-specific style */\n",
              "\n",
              "/* Colorize estimator box */\n",
              "#sk-container-id-2 div.sk-estimator input.sk-toggleable__control:checked~label.sk-toggleable__label {\n",
              "  /* unfitted */\n",
              "  background-color: var(--sklearn-color-unfitted-level-2);\n",
              "}\n",
              "\n",
              "#sk-container-id-2 div.sk-estimator.fitted input.sk-toggleable__control:checked~label.sk-toggleable__label {\n",
              "  /* fitted */\n",
              "  background-color: var(--sklearn-color-fitted-level-2);\n",
              "}\n",
              "\n",
              "#sk-container-id-2 div.sk-label label.sk-toggleable__label,\n",
              "#sk-container-id-2 div.sk-label label {\n",
              "  /* The background is the default theme color */\n",
              "  color: var(--sklearn-color-text-on-default-background);\n",
              "}\n",
              "\n",
              "/* On hover, darken the color of the background */\n",
              "#sk-container-id-2 div.sk-label:hover label.sk-toggleable__label {\n",
              "  color: var(--sklearn-color-text);\n",
              "  background-color: var(--sklearn-color-unfitted-level-2);\n",
              "}\n",
              "\n",
              "/* Label box, darken color on hover, fitted */\n",
              "#sk-container-id-2 div.sk-label.fitted:hover label.sk-toggleable__label.fitted {\n",
              "  color: var(--sklearn-color-text);\n",
              "  background-color: var(--sklearn-color-fitted-level-2);\n",
              "}\n",
              "\n",
              "/* Estimator label */\n",
              "\n",
              "#sk-container-id-2 div.sk-label label {\n",
              "  font-family: monospace;\n",
              "  font-weight: bold;\n",
              "  display: inline-block;\n",
              "  line-height: 1.2em;\n",
              "}\n",
              "\n",
              "#sk-container-id-2 div.sk-label-container {\n",
              "  text-align: center;\n",
              "}\n",
              "\n",
              "/* Estimator-specific */\n",
              "#sk-container-id-2 div.sk-estimator {\n",
              "  font-family: monospace;\n",
              "  border: 1px dotted var(--sklearn-color-border-box);\n",
              "  border-radius: 0.25em;\n",
              "  box-sizing: border-box;\n",
              "  margin-bottom: 0.5em;\n",
              "  /* unfitted */\n",
              "  background-color: var(--sklearn-color-unfitted-level-0);\n",
              "}\n",
              "\n",
              "#sk-container-id-2 div.sk-estimator.fitted {\n",
              "  /* fitted */\n",
              "  background-color: var(--sklearn-color-fitted-level-0);\n",
              "}\n",
              "\n",
              "/* on hover */\n",
              "#sk-container-id-2 div.sk-estimator:hover {\n",
              "  /* unfitted */\n",
              "  background-color: var(--sklearn-color-unfitted-level-2);\n",
              "}\n",
              "\n",
              "#sk-container-id-2 div.sk-estimator.fitted:hover {\n",
              "  /* fitted */\n",
              "  background-color: var(--sklearn-color-fitted-level-2);\n",
              "}\n",
              "\n",
              "/* Specification for estimator info (e.g. \"i\" and \"?\") */\n",
              "\n",
              "/* Common style for \"i\" and \"?\" */\n",
              "\n",
              ".sk-estimator-doc-link,\n",
              "a:link.sk-estimator-doc-link,\n",
              "a:visited.sk-estimator-doc-link {\n",
              "  float: right;\n",
              "  font-size: smaller;\n",
              "  line-height: 1em;\n",
              "  font-family: monospace;\n",
              "  background-color: var(--sklearn-color-background);\n",
              "  border-radius: 1em;\n",
              "  height: 1em;\n",
              "  width: 1em;\n",
              "  text-decoration: none !important;\n",
              "  margin-left: 1ex;\n",
              "  /* unfitted */\n",
              "  border: var(--sklearn-color-unfitted-level-1) 1pt solid;\n",
              "  color: var(--sklearn-color-unfitted-level-1);\n",
              "}\n",
              "\n",
              ".sk-estimator-doc-link.fitted,\n",
              "a:link.sk-estimator-doc-link.fitted,\n",
              "a:visited.sk-estimator-doc-link.fitted {\n",
              "  /* fitted */\n",
              "  border: var(--sklearn-color-fitted-level-1) 1pt solid;\n",
              "  color: var(--sklearn-color-fitted-level-1);\n",
              "}\n",
              "\n",
              "/* On hover */\n",
              "div.sk-estimator:hover .sk-estimator-doc-link:hover,\n",
              ".sk-estimator-doc-link:hover,\n",
              "div.sk-label-container:hover .sk-estimator-doc-link:hover,\n",
              ".sk-estimator-doc-link:hover {\n",
              "  /* unfitted */\n",
              "  background-color: var(--sklearn-color-unfitted-level-3);\n",
              "  color: var(--sklearn-color-background);\n",
              "  text-decoration: none;\n",
              "}\n",
              "\n",
              "div.sk-estimator.fitted:hover .sk-estimator-doc-link.fitted:hover,\n",
              ".sk-estimator-doc-link.fitted:hover,\n",
              "div.sk-label-container:hover .sk-estimator-doc-link.fitted:hover,\n",
              ".sk-estimator-doc-link.fitted:hover {\n",
              "  /* fitted */\n",
              "  background-color: var(--sklearn-color-fitted-level-3);\n",
              "  color: var(--sklearn-color-background);\n",
              "  text-decoration: none;\n",
              "}\n",
              "\n",
              "/* Span, style for the box shown on hovering the info icon */\n",
              ".sk-estimator-doc-link span {\n",
              "  display: none;\n",
              "  z-index: 9999;\n",
              "  position: relative;\n",
              "  font-weight: normal;\n",
              "  right: .2ex;\n",
              "  padding: .5ex;\n",
              "  margin: .5ex;\n",
              "  width: min-content;\n",
              "  min-width: 20ex;\n",
              "  max-width: 50ex;\n",
              "  color: var(--sklearn-color-text);\n",
              "  box-shadow: 2pt 2pt 4pt #999;\n",
              "  /* unfitted */\n",
              "  background: var(--sklearn-color-unfitted-level-0);\n",
              "  border: .5pt solid var(--sklearn-color-unfitted-level-3);\n",
              "}\n",
              "\n",
              ".sk-estimator-doc-link.fitted span {\n",
              "  /* fitted */\n",
              "  background: var(--sklearn-color-fitted-level-0);\n",
              "  border: var(--sklearn-color-fitted-level-3);\n",
              "}\n",
              "\n",
              ".sk-estimator-doc-link:hover span {\n",
              "  display: block;\n",
              "}\n",
              "\n",
              "/* \"?\"-specific style due to the `<a>` HTML tag */\n",
              "\n",
              "#sk-container-id-2 a.estimator_doc_link {\n",
              "  float: right;\n",
              "  font-size: 1rem;\n",
              "  line-height: 1em;\n",
              "  font-family: monospace;\n",
              "  background-color: var(--sklearn-color-background);\n",
              "  border-radius: 1rem;\n",
              "  height: 1rem;\n",
              "  width: 1rem;\n",
              "  text-decoration: none;\n",
              "  /* unfitted */\n",
              "  color: var(--sklearn-color-unfitted-level-1);\n",
              "  border: var(--sklearn-color-unfitted-level-1) 1pt solid;\n",
              "}\n",
              "\n",
              "#sk-container-id-2 a.estimator_doc_link.fitted {\n",
              "  /* fitted */\n",
              "  border: var(--sklearn-color-fitted-level-1) 1pt solid;\n",
              "  color: var(--sklearn-color-fitted-level-1);\n",
              "}\n",
              "\n",
              "/* On hover */\n",
              "#sk-container-id-2 a.estimator_doc_link:hover {\n",
              "  /* unfitted */\n",
              "  background-color: var(--sklearn-color-unfitted-level-3);\n",
              "  color: var(--sklearn-color-background);\n",
              "  text-decoration: none;\n",
              "}\n",
              "\n",
              "#sk-container-id-2 a.estimator_doc_link.fitted:hover {\n",
              "  /* fitted */\n",
              "  background-color: var(--sklearn-color-fitted-level-3);\n",
              "}\n",
              "</style><div id=\"sk-container-id-2\" class=\"sk-top-container\"><div class=\"sk-text-repr-fallback\"><pre>LinearRegression()</pre><b>In a Jupyter environment, please rerun this cell to show the HTML representation or trust the notebook. <br />On GitHub, the HTML representation is unable to render, please try loading this page with nbviewer.org.</b></div><div class=\"sk-container\" hidden><div class=\"sk-item\"><div class=\"sk-estimator fitted sk-toggleable\"><input class=\"sk-toggleable__control sk-hidden--visually\" id=\"sk-estimator-id-2\" type=\"checkbox\" checked><label for=\"sk-estimator-id-2\" class=\"sk-toggleable__label fitted sk-toggleable__label-arrow fitted\">&nbsp;&nbsp;LinearRegression<a class=\"sk-estimator-doc-link fitted\" rel=\"noreferrer\" target=\"_blank\" href=\"https://scikit-learn.org/1.5/modules/generated/sklearn.linear_model.LinearRegression.html\">?<span>Documentation for LinearRegression</span></a><span class=\"sk-estimator-doc-link fitted\">i<span>Fitted</span></span></label><div class=\"sk-toggleable__content fitted\"><pre>LinearRegression()</pre></div> </div></div></div></div>"
            ],
            "text/plain": [
              "LinearRegression()"
            ]
          },
          "execution_count": 22,
          "metadata": {},
          "output_type": "execute_result"
        }
      ],
      "source": [
        "model = LinearRegression()  #creating an LR object\n",
        "model.fit(x_poly, Y)"
      ]
    },
    {
      "cell_type": "code",
      "execution_count": 23,
      "id": "91c88228",
      "metadata": {},
      "outputs": [],
      "source": [
        "Y_predicted = model.predict(x_poly)"
      ]
    },
    {
      "cell_type": "code",
      "execution_count": 24,
      "id": "04f4ecef",
      "metadata": {},
      "outputs": [
        {
          "data": {
            "image/png": "[encoded data removed]",
            "text/plain": [
              "<Figure size 640x480 with 1 Axes>"
            ]
          },
          "metadata": {},
          "output_type": "display_data"
        }
      ],
      "source": [
        "plt.scatter(X, Y, color='red', label='Actual Data')\n",
        "plt.plot(X, Y_predicted, color='blue', label='Polynomial Fit (deg = 2)')\n",
        "plt.legend()\n",
        "plt.show()\n"
      ]
    },
    {
      "cell_type": "code",
      "execution_count": 25,
      "id": "f1de3101",
      "metadata": {},
      "outputs": [],
      "source": [
        "from sklearn.metrics import r2_score"
      ]
    },
    {
      "cell_type": "code",
      "execution_count": 26,
      "id": "70c3013b",
      "metadata": {},
      "outputs": [
        {
          "data": {
            "text/plain": [
              "0.9805654231343186"
            ]
          },
          "execution_count": 26,
          "metadata": {},
          "output_type": "execute_result"
        }
      ],
      "source": [
        "R2 = r2_score(Y, Y_predicted)\n",
        "R2"
      ]
    },
    {
      "cell_type": "code",
      "execution_count": null,
      "id": "2765041c",
      "metadata": {},
      "outputs": [
        {
          "data": {
            "text/plain": [
              "0.9740872308457581"
            ]
          },
          "execution_count": 27,
          "metadata": {},
          "output_type": "execute_result"
        }
      ],
      "source": [
        "# Adjusted R2\n",
        "n = len(Y)\n",
        "p = x_poly.shape[1] - 1 #No of linearly independent Features (-1 is to exclude the intercept)\n",
        "\n",
        "adjusted_R2 = 1 - (((1 - R2) * (n - 1)) / (n - p - 1) )\n",
        "adjusted_R2"
      ]
    },
    {
      "cell_type": "code",
      "execution_count": 33,
      "id": "5c8760c1",
      "metadata": {},
      "outputs": [
        {
          "name": "stdout",
          "output_type": "stream",
          "text": [
            "R^2 = 0.981\n",
            "Adjusted R^2 = 0.974\n"
          ]
        }
      ],
      "source": [
        "print(f\"R^2 = {R2:.3f}\")\n",
        "print(f\"Adjusted R^2 = {adjusted_R2:.3f}\" )"
      ]
    },
    {
      "cell_type": "code",
      "execution_count": null,
      "id": "883ec1f5",
      "metadata": {},
      "outputs": [],
      "source": []
    }
  ],
  "metadata": {
    "colab": {
      "provenance": []
    },
    "kernelspec": {
      "display_name": "base",
      "language": "python",
      "name": "python3"
    },
    "language_info": {
      "codemirror_mode": {
        "name": "ipython",
        "version": 3
      },
      "file_extension": ".py",
      "mimetype": "text/x-python",
      "name": "python",
      "nbconvert_exporter": "python",
      "pygments_lexer": "ipython3",
      "version": "3.12.7"
    }
  },
  "nbformat": 4,
  "nbformat_minor": 5
}
